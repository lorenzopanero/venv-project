{
 "cells": [
  {
   "cell_type": "markdown",
   "metadata": {},
   "source": [
    "# Bitta Parking\n",
    "Il Bitta parking è un parcheggio a cinque livelli con numero variabile di posti, riservato esclusivamente agli Alfisti"
   ]
  },
  {
   "cell_type": "code",
   "execution_count": 1,
   "metadata": {},
   "outputs": [],
   "source": [
    "from datetime import datetime\n"
   ]
  },
  {
   "cell_type": "code",
   "execution_count": 2,
   "metadata": {},
   "outputs": [],
   "source": [
    "parking = {\"level1\":{\"total_lot\": 10,\n",
    "                    \"taken_lot\": 5},\n",
    "           \"level2\":{\"total_lot\": 20,\n",
    "                    \"taken_lot\": 7},         \n",
    "           \"level3\":{\"total_lot\": 39,\n",
    "                    \"taken_lot\": 38},\n",
    "            \"level4\":{\"total_lot\": 50,\n",
    "                    \"taken_lot\": 50},\n",
    "            \"level5\":{\"total_lot\": 5,\n",
    "                    \"taken_lot\": 0}              \n",
    "            }"
   ]
  },
  {
   "cell_type": "code",
   "execution_count": 3,
   "metadata": {},
   "outputs": [],
   "source": [
    "auto = {\"AX555LM\": {\"entry\": datetime.now(), \n",
    "                    \"level\": \"level1\"},\n",
    "        \"CJ687LI\": {\"entry\": datetime.now(), \n",
    "                    \"level\": \"level3\"}\n",
    "            }"
   ]
  },
  {
   "cell_type": "markdown",
   "metadata": {},
   "source": [
    "## Requisiti:\n",
    "- occupiamo prima i piani inferiori\n",
    "- ultimo piano riservato ai Bitta\n",
    "- i clienti pagano in base alla permanenza una quota proporzionata(50€/h)\n",
    "- sono accettati escluivamente possessori di Alfa Romeo e Camper\n"
   ]
  },
  {
   "cell_type": "code",
   "execution_count": 4,
   "metadata": {},
   "outputs": [],
   "source": [
    "# Check if the vehicle is an Alfa or a Camper\n",
    "def check_vehicle():\n",
    "    answer = input(\"Is this vehicle an Alfa or a Camper? [Y/N]\").lower()\n",
    "    if answer == \"y\": \n",
    "        return True \n",
    "    elif answer == \"n\":\n",
    "        return False\n",
    "    else:\n",
    "        check_vehicle()"
   ]
  },
  {
   "cell_type": "code",
   "execution_count": 5,
   "metadata": {},
   "outputs": [],
   "source": [
    "# Check if the driver is a member of the Bitta's family\n",
    "def is_Bitta():\n",
    "    answer = input(\"Are you a Bitta? [Y/N]\").lower()\n",
    "    if answer == \"y\": \n",
    "        return True \n",
    "    elif answer == \"n\":\n",
    "        return False\n",
    "    else:\n",
    "        is_Bitta()"
   ]
  },
  {
   "cell_type": "code",
   "execution_count": null,
   "metadata": {},
   "outputs": [],
   "source": [
    "parking[\"level5\"][\"total_lot\"]"
   ]
  },
  {
   "cell_type": "code",
   "execution_count": 7,
   "metadata": {},
   "outputs": [],
   "source": [
    "# Check if Bitta's spots are available\n",
    "def check_Bitta_spot_available():\n",
    "    total_lot = parking[\"level5\"][\"total_lot\"]\n",
    "    taken_lot = parking[\"level5\"][\"taken_lot\"]\n",
    "    spot_available = (total_lot - taken_lot) > 0\n",
    "    return spot_available\n"
   ]
  },
  {
   "cell_type": "code",
   "execution_count": 8,
   "metadata": {},
   "outputs": [],
   "source": [
    "# Check standard spots available\n",
    "def check_standard_spot_available():\n",
    "    for level, level_info in parking.items():\n",
    "        if level == \"level5\":\n",
    "            break\n",
    "        total_lot = level_info[\"total_lot\"]\n",
    "        taken_lot = level_info[\"taken_lot\"]\n",
    "        spot_available = (total_lot - taken_lot) > 0\n",
    "        if spot_available:\n",
    "            return spot_available, level\n",
    "    return spot_available, level\n",
    "        "
   ]
  },
  {
   "cell_type": "code",
   "execution_count": 9,
   "metadata": {},
   "outputs": [],
   "source": [
    "# Add taken spot for specified level\n",
    "def add_taken_spot(level):\n",
    "    parking[level][\"taken_lot\"] += 1\n",
    "    "
   ]
  },
  {
   "cell_type": "code",
   "execution_count": 10,
   "metadata": {},
   "outputs": [],
   "source": [
    "# Add auto license plate, datetime, level\n",
    "def add_auto(level):\n",
    "    plate = input(\"Insert license plate: \").upper()\n",
    "    auto[plate] ={} # add plate to auto\n",
    "    auto[plate][\"entry\"] = datetime.now() # add entry time\n",
    "    auto[plate][\"level\"] = level # add level "
   ]
  },
  {
   "cell_type": "code",
   "execution_count": 11,
   "metadata": {},
   "outputs": [],
   "source": [
    "def get_auto_info(plate):\n",
    "    plate_dict = auto[plate] # select info about the plate\n",
    "    entry_time = plate_dict[\"entry\"] # take entry time\n",
    "    level = plate_dict[\"level\"] # get the level\n",
    "    return level, entry_time"
   ]
  },
  {
   "cell_type": "code",
   "execution_count": 12,
   "metadata": {},
   "outputs": [],
   "source": [
    "# Remove taken spot for specified level\n",
    "def remove_taken_spot(level):\n",
    "    parking[level][\"taken_lot\"] -= 1"
   ]
  },
  {
   "cell_type": "code",
   "execution_count": 13,
   "metadata": {},
   "outputs": [],
   "source": [
    "# Remove auto from dictionary\n",
    "def remove_plate(plate):\n",
    "    del auto[plate]"
   ]
  },
  {
   "cell_type": "code",
   "execution_count": 14,
   "metadata": {},
   "outputs": [],
   "source": [
    "# Calculate hours of parking\n",
    "def calculate_hours(entry_time):\n",
    "    diff = datetime.now() - entry_time\n",
    "    hours = diff.total_seconds() // 3600\n",
    "    return hours + 1"
   ]
  },
  {
   "cell_type": "code",
   "execution_count": 15,
   "metadata": {},
   "outputs": [],
   "source": [
    "# Calculate fare\n",
    "def calculate_fare(entry_time):\n",
    "    hours = calculate_hours(entry_time)\n",
    "    hour_fare = 50\n",
    "    fare = hours * hour_fare\n",
    "    return fare"
   ]
  },
  {
   "cell_type": "markdown",
   "metadata": {},
   "source": [
    "## To do\n",
    "- Fare un controllo su presenza targa in db quando l'auto è in uscito\n",
    "- controlli su targa"
   ]
  },
  {
   "cell_type": "code",
   "execution_count": 16,
   "metadata": {},
   "outputs": [],
   "source": [
    "def auto_in():\n",
    "    is_alfa_or_camper = check_vehicle()\n",
    "    if not is_alfa_or_camper:\n",
    "        print(\"Qui non puoi entrare!\")\n",
    "        return\n",
    "    is_bitta = is_Bitta()\n",
    "    \n",
    "    # select level for Bitta member\n",
    "    if is_bitta:\n",
    "        is_available = check_Bitta_spot_available()\n",
    "        if is_available:\n",
    "            selected_level = \"level5\"\n",
    "        else: \n",
    "            print(\"Non c'è più posto al tuo piano...\")\n",
    "            return\n",
    "    \n",
    "    # select level for standard client\n",
    "    else:\n",
    "        spot_available, level = check_standard_spot_available()\n",
    "        if not spot_available:\n",
    "            print(\"Non c'è nessun posto disponibile\")\n",
    "            return\n",
    "        else:\n",
    "            selected_level = level\n",
    "    \n",
    "    add_auto(selected_level)"
   ]
  },
  {
   "cell_type": "code",
   "execution_count": 17,
   "metadata": {},
   "outputs": [],
   "source": [
    "def auto_out():\n",
    "    auto_plate = input(\"Quale è la targa?\").upper()\n",
    "    if not auto_plate in auto.keys():\n",
    "        print(\"Come hai fatto ad entrare?? Non c'è nessuna macchina con questa targa\")\n",
    "        return\n",
    "    level, entry_time = get_auto_info(auto_plate)\n",
    "    remove_taken_spot(level)\n",
    "    remove_plate(auto_plate)\n",
    "    fare = calculate_fare(entry_time)\n",
    "    print(f\"Mi devi {fare}€\")"
   ]
  },
  {
   "cell_type": "code",
   "execution_count": 22,
   "metadata": {},
   "outputs": [],
   "source": [
    "def open():\n",
    "    var = input(\"In or Out?\").lower()\n",
    "    if var == \"in\":\n",
    "        auto_in()\n",
    "    else:\n",
    "        auto_out()\n",
    "    open()"
   ]
  },
  {
   "cell_type": "code",
   "execution_count": 25,
   "metadata": {},
   "outputs": [],
   "source": [
    "class Benzina:\n",
    "    def __init__(self, carburante, cilindrata):\n",
    "        self.carburante = carburante\n",
    "        self.cilindrata = cilindrata\n",
    "\n",
    "    def rifornisci_benzina(self):\n",
    "        print(\"Pieno\")\n",
    "\n",
    "class Elettrica:\n",
    "    def __init__(self, batteria):\n",
    "        self.batteria  = batteria\n",
    "\n",
    "    def ricarica_batteria():\n",
    "        print(\"Carica\")\n",
    "\n",
    "class Ibrida(Benzina, Elettrica):\n",
    "    def __init__(self, carburante, cilindrata, batteria, autonomia):\n",
    "        Benzina.__init__(self, carburante, cilindrata)\n",
    "        Elettrica.__init__(self, batteria)\n",
    "        self.autonomia = autonomia\n",
    "\n",
    "    def avvia_motore(self):\n",
    "        print(\"Bruuuummm\")"
   ]
  },
  {
   "cell_type": "code",
   "execution_count": 26,
   "metadata": {},
   "outputs": [
    {
     "name": "stdout",
     "output_type": "stream",
     "text": [
      "Bruuuummm\n"
     ]
    }
   ],
   "source": [
    "yaris = Ibrida(carburante=\"Benzina\", cilindrata=1000, batteria=True, autonomia=800)\n",
    "yaris.avvia_motore()"
   ]
  }
 ],
 "metadata": {
  "kernelspec": {
   "display_name": ".venv",
   "language": "python",
   "name": "python3"
  },
  "language_info": {
   "codemirror_mode": {
    "name": "ipython",
    "version": 3
   },
   "file_extension": ".py",
   "mimetype": "text/x-python",
   "name": "python",
   "nbconvert_exporter": "python",
   "pygments_lexer": "ipython3",
   "version": "3.12.3"
  }
 },
 "nbformat": 4,
 "nbformat_minor": 2
}
