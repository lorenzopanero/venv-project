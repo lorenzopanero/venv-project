{
 "cells": [
  {
   "cell_type": "code",
   "execution_count": 7,
   "metadata": {},
   "outputs": [
    {
     "name": "stdout",
     "output_type": "stream",
     "text": [
      "Se nni mondo esistesse un pò di bene\n"
     ]
    }
   ],
   "source": [
    "a = \"Se nni mondo\"\n",
    "b = \"esistesse un pò di bene\"\n",
    "print(a, b)"
   ]
  },
  {
   "cell_type": "code",
   "execution_count": 10,
   "metadata": {},
   "outputs": [
    {
     "data": {
      "text/plain": [
       "['__add__',\n",
       " '__class__',\n",
       " '__contains__',\n",
       " '__delattr__',\n",
       " '__dir__',\n",
       " '__doc__',\n",
       " '__eq__',\n",
       " '__format__',\n",
       " '__ge__',\n",
       " '__getattribute__',\n",
       " '__getitem__',\n",
       " '__getnewargs__',\n",
       " '__getstate__',\n",
       " '__gt__',\n",
       " '__hash__',\n",
       " '__init__',\n",
       " '__init_subclass__',\n",
       " '__iter__',\n",
       " '__le__',\n",
       " '__len__',\n",
       " '__lt__',\n",
       " '__mod__',\n",
       " '__mul__',\n",
       " '__ne__',\n",
       " '__new__',\n",
       " '__reduce__',\n",
       " '__reduce_ex__',\n",
       " '__repr__',\n",
       " '__rmod__',\n",
       " '__rmul__',\n",
       " '__setattr__',\n",
       " '__sizeof__',\n",
       " '__str__',\n",
       " '__subclasshook__',\n",
       " 'capitalize',\n",
       " 'casefold',\n",
       " 'center',\n",
       " 'count',\n",
       " 'encode',\n",
       " 'endswith',\n",
       " 'expandtabs',\n",
       " 'find',\n",
       " 'format',\n",
       " 'format_map',\n",
       " 'index',\n",
       " 'isalnum',\n",
       " 'isalpha',\n",
       " 'isascii',\n",
       " 'isdecimal',\n",
       " 'isdigit',\n",
       " 'isidentifier',\n",
       " 'islower',\n",
       " 'isnumeric',\n",
       " 'isprintable',\n",
       " 'isspace',\n",
       " 'istitle',\n",
       " 'isupper',\n",
       " 'join',\n",
       " 'ljust',\n",
       " 'lower',\n",
       " 'lstrip',\n",
       " 'maketrans',\n",
       " 'partition',\n",
       " 'removeprefix',\n",
       " 'removesuffix',\n",
       " 'replace',\n",
       " 'rfind',\n",
       " 'rindex',\n",
       " 'rjust',\n",
       " 'rpartition',\n",
       " 'rsplit',\n",
       " 'rstrip',\n",
       " 'split',\n",
       " 'splitlines',\n",
       " 'startswith',\n",
       " 'strip',\n",
       " 'swapcase',\n",
       " 'title',\n",
       " 'translate',\n",
       " 'upper',\n",
       " 'zfill']"
      ]
     },
     "execution_count": 10,
     "metadata": {},
     "output_type": "execute_result"
    }
   ],
   "source": [
    "dir(a)"
   ]
  },
  {
   "cell_type": "code",
   "execution_count": 17,
   "metadata": {},
   "outputs": [
    {
     "data": {
      "text/plain": [
       "'n'"
      ]
     },
     "execution_count": 17,
     "metadata": {},
     "output_type": "execute_result"
    }
   ],
   "source": [
    "a[3]"
   ]
  },
  {
   "cell_type": "code",
   "execution_count": 22,
   "metadata": {},
   "outputs": [],
   "source": [
    "c = \"Hello World!\"\n",
    "d = \"Ciao mondo!\"\n",
    "e = \"Konichiwa sekai!\""
   ]
  },
  {
   "cell_type": "code",
   "execution_count": 21,
   "metadata": {},
   "outputs": [
    {
     "data": {
      "text/plain": [
       "'!'"
      ]
     },
     "execution_count": 21,
     "metadata": {},
     "output_type": "execute_result"
    }
   ],
   "source": [
    "c[-1]"
   ]
  },
  {
   "cell_type": "code",
   "execution_count": 24,
   "metadata": {},
   "outputs": [],
   "source": [
    "#Questo è un commento in Python"
   ]
  },
  {
   "cell_type": "code",
   "execution_count": 28,
   "metadata": {},
   "outputs": [
    {
     "name": "stdout",
     "output_type": "stream",
     "text": [
      "Hello World! Ciao mondo! Konichiwa sekai!\n"
     ]
    }
   ],
   "source": [
    "#Concatenazione di stringhe\n",
    "f = c + \" \" + d + \" \" + e\n",
    "print(f)"
   ]
  },
  {
   "cell_type": "code",
   "execution_count": null,
   "metadata": {},
   "outputs": [
    {
     "data": {
      "text/plain": [
       "'Hello World! Ciao mondo! Konichiwa sekai! : la stringa è lunga 41 caratteri'"
      ]
     },
     "execution_count": 34,
     "metadata": {},
     "output_type": "execute_result"
    }
   ],
   "source": [
    "# Lunghezza di una stringa\n",
    "g = f + \" : la stringa è lunga \" + str(len(f)) + \" caratteri\"\n",
    "g"
   ]
  },
  {
   "cell_type": "code",
   "execution_count": 91,
   "metadata": {},
   "outputs": [
    {
     "data": {
      "text/plain": [
       "\"'Hello World!'\""
      ]
     },
     "execution_count": 91,
     "metadata": {},
     "output_type": "execute_result"
    }
   ],
   "source": [
    "# Accesso ai metodi di una classe\n",
    "c.upper() #Tutte le lettere maiuscole\n",
    "c.capitalize() #Prima lettera maiuscola\n",
    "c.lower() #Tutte le lettere minuscole\n",
    "c.lstrip() #Elimina gli spazi bianchi a sinistra\n",
    "c.rstrip() #Elimina gli spazi bianchi a destra\n",
    "c.strip() #Elimina gli spazi bianchi a destra e a sinistra\n",
    "c.split() #Separa la stringa in una lista di stringhe\n",
    "c.split(\" \") #Separa la stringa in una lista di stringhe usando uno spazio come separatore \n",
    "c.replace(\"Hello\", \"Ciao\") #Sostituisce una stringa con un'altra\n",
    "c.find(\"World\") #Trova la posizione di una stringa all'interno di un'altra\n",
    "c.count(\"l\") #Conta quante volte una stringa è presente in un'altra\n",
    "c.startswith(\"Hello\") #Controlla se una stringa inizia con un'altra\n",
    "c.endswith(\"World!\") #Controlla se una stringa finisce con un'altra \n",
    "c.isalnum() #Controlla se la stringa è alfanumerica\n",
    "c.isalpha() #Controlla se la stringa è alfabetica\n",
    "c.isdigit() #Controlla se la stringa è numerica\n",
    "c.islower() #Controlla se la stringa è tutta minuscola\n",
    "c.isupper() #Controlla se la stringa è tutta maiuscola\n",
    "c.isspace() #Controlla se la stringa è vuota\n",
    "c.istitle() #Controlla se la stringa è un titolo\n",
    "c.join([\"Hello \", \" World!\"]) #Unisce una lista di stringhe in una stringa\n",
    "c.center(20) #Centra la stringa in una stringa di 20 caratteri\n",
    "c.ljust(20) #Allinea la stringa a sinistra in una stringa di 20 caratteri\n",
    "c.rjust(20) #Allinea la stringa a destra in una stringa di 20 caratteri\n",
    "c.zfill(20) #Aggiunge degli zeri a sinistra fino a raggiungere 20 caratteri \n",
    "c.title() #Trasforma la stringa in un titolo    \n",
    "c.swapcase() #Scambia le lettere maiuscole con le lettere minuscole\n",
    "c.partition(\" \") #Separa la stringa in tre parti usando uno spazio come separatore\n",
    "c.rpartition(\" \") #Separa la stringa in tre parti usando uno spazio come separatore partendo da destra\n",
    "c.__len__() #Lunghezza della stringa\n",
    "c.__getitem__(0) #Primo carattere della stringa\n",
    "c.__getitem__(-1) #Ultimo carattere della stringa\n",
    "c.__add__(\"!\") #Aggiunge un carattere alla stringa\n",
    "c.__mul__(2) #Ripete la stringa due volte\n",
    "c.__contains__(\"World\") #Controlla se una stringa è contenuta in un'altra\n",
    "c.__eq__(\"Hello World!\") #Controlla se due stringhe sono uguali\n",
    "c.__ne__(\"Hello World!\") #Controlla se due stringhe sono diverse\n",
    "c.__lt__(\"Hello World!\") #Controlla se una stringa è minore di un'altra\n",
    "c.__le__(\"Hello World!\") #Controlla se una stringa è minore o uguale di un'altra\n",
    "c.__gt__(\"Hello World!\") #Controlla se una stringa è maggiore di un'altra\n",
    "c.__ge__(\"Hello World!\") #Controlla se una stringa è maggiore o uguale di un'altra\n",
    "c.__hash__() #Hash della stringa\n",
    "c.__str__() #Stringa\n",
    "c.__repr__() #Rappresentazione della stringa\n"
   ]
  },
  {
   "cell_type": "code",
   "execution_count": 38,
   "metadata": {},
   "outputs": [
    {
     "data": {
      "text/plain": [
       "['__add__',\n",
       " '__class__',\n",
       " '__contains__',\n",
       " '__delattr__',\n",
       " '__dir__',\n",
       " '__doc__',\n",
       " '__eq__',\n",
       " '__format__',\n",
       " '__ge__',\n",
       " '__getattribute__',\n",
       " '__getitem__',\n",
       " '__getnewargs__',\n",
       " '__getstate__',\n",
       " '__gt__',\n",
       " '__hash__',\n",
       " '__init__',\n",
       " '__init_subclass__',\n",
       " '__iter__',\n",
       " '__le__',\n",
       " '__len__',\n",
       " '__lt__',\n",
       " '__mod__',\n",
       " '__mul__',\n",
       " '__ne__',\n",
       " '__new__',\n",
       " '__reduce__',\n",
       " '__reduce_ex__',\n",
       " '__repr__',\n",
       " '__rmod__',\n",
       " '__rmul__',\n",
       " '__setattr__',\n",
       " '__sizeof__',\n",
       " '__str__',\n",
       " '__subclasshook__',\n",
       " 'capitalize',\n",
       " 'casefold',\n",
       " 'center',\n",
       " 'count',\n",
       " 'encode',\n",
       " 'endswith',\n",
       " 'expandtabs',\n",
       " 'find',\n",
       " 'format',\n",
       " 'format_map',\n",
       " 'index',\n",
       " 'isalnum',\n",
       " 'isalpha',\n",
       " 'isascii',\n",
       " 'isdecimal',\n",
       " 'isdigit',\n",
       " 'isidentifier',\n",
       " 'islower',\n",
       " 'isnumeric',\n",
       " 'isprintable',\n",
       " 'isspace',\n",
       " 'istitle',\n",
       " 'isupper',\n",
       " 'join',\n",
       " 'ljust',\n",
       " 'lower',\n",
       " 'lstrip',\n",
       " 'maketrans',\n",
       " 'partition',\n",
       " 'removeprefix',\n",
       " 'removesuffix',\n",
       " 'replace',\n",
       " 'rfind',\n",
       " 'rindex',\n",
       " 'rjust',\n",
       " 'rpartition',\n",
       " 'rsplit',\n",
       " 'rstrip',\n",
       " 'split',\n",
       " 'splitlines',\n",
       " 'startswith',\n",
       " 'strip',\n",
       " 'swapcase',\n",
       " 'title',\n",
       " 'translate',\n",
       " 'upper',\n",
       " 'zfill']"
      ]
     },
     "execution_count": 38,
     "metadata": {},
     "output_type": "execute_result"
    }
   ],
   "source": [
    "dir(c)"
   ]
  },
  {
   "cell_type": "code",
   "execution_count": 97,
   "metadata": {},
   "outputs": [
    {
     "name": "stdout",
     "output_type": "stream",
     "text": [
      "on Tom LONG wolk\n"
     ]
    },
    {
     "data": {
      "text/plain": [
       "['on', 'Tom', 'LONG', 'wolk']"
      ]
     },
     "execution_count": 97,
     "metadata": {},
     "output_type": "execute_result"
    }
   ],
   "source": [
    "phrase = \"ON\".lower() + \" \" + \"tom\".capitalize() + \" \" + \"long\".upper() + \" \" + \"walk\".replace(\"a\", \"o\")\n",
    "print(phrase)\n",
    "phrase.split()"
   ]
  },
  {
   "cell_type": "code",
   "execution_count": 99,
   "metadata": {},
   "outputs": [
    {
     "name": "stdout",
     "output_type": "stream",
     "text": [
      "welcome James, you are 25 years old\n"
     ]
    }
   ],
   "source": [
    "name = \"James\"\n",
    "age = 25\n",
    "print(\"welcome \" + name + \", you are \" + str(age) + \" years old\")"
   ]
  },
  {
   "cell_type": "code",
   "execution_count": 105,
   "metadata": {},
   "outputs": [
    {
     "name": "stdout",
     "output_type": "stream",
     "text": [
      "welcome I'm James, I'm 25 years old and I live in London\n",
      "welcome I'm Champion James, I'm 25 years old and I live in London\n",
      "welcome I'm Champion James, I'm 25 years old, I'm 1.85 meters tall and I live in London\n"
     ]
    }
   ],
   "source": [
    "name, age, city = \"James\", 25, \"London\"\n",
    "print(\"welcome I'm \" + name + \", I'm \" + str(age) + \" years old and I live in \" + city)\n",
    "name = \"Champion \" + name\n",
    "print(\"welcome I'm \" + name + \", I'm \" + str(age) + \" years old and I live in \" + city)\n",
    "height = 1.85\n",
    "is_hero = True\n",
    "print(\"welcome I'm \" + name + \", I'm \" + str(age) + \" years old, I'm \" + str(height) + \" meters tall and I live in \" + city)"
   ]
  },
  {
   "cell_type": "code",
   "execution_count": 112,
   "metadata": {},
   "outputs": [
    {
     "name": "stdout",
     "output_type": "stream",
     "text": [
      "Name: Lorenzo, Age: 25, City: Fossano\n"
     ]
    },
    {
     "data": {
      "text/plain": [
       "'fossano'"
      ]
     },
     "execution_count": 112,
     "metadata": {},
     "output_type": "execute_result"
    }
   ],
   "source": [
    "name = input(\"What is your name? \")\n",
    "age = input(\"How old are you? \")\n",
    "city = input(\"Which city do you live in? \")\n",
    "\n",
    "print(f\"Name: {name}, Age: {age}, City: {city}\")\n",
    "\n",
    "name.lower()\n",
    "city.lower()\n",
    "\n",
    "len(name)\n",
    "len(city)\n",
    "\n",
    "first_name = input(\"What is your first name? \")\n",
    "last_name = input(\"What is your last name? \")\n",
    "print(f\"Hello {first_name} {last_name}!\")\n",
    "\n",
    "fav_language = input(\"What is your favourite programming language? \")\n",
    "\n",
    "actual_year = input(\"What year is it? \")\n",
    "birth_year = input(\"What year were you born? \")\n",
    "age_calc = int(actual_year) - int(birth_year)\n",
    "print(f\"You are {age_calc} years old\")\n",
    "\n",
    "bio = input(\"Tell me something about you: \")\n",
    "print(len(bio))"
   ]
  },
  {
   "cell_type": "code",
   "execution_count": 29,
   "metadata": {},
   "outputs": [
    {
     "name": "stdout",
     "output_type": "stream",
     "text": [
      "Hello Lo\n",
      "False\n",
      "mi\n",
      "sento\n",
      "happy\n"
     ]
    }
   ],
   "source": [
    "first_name = \"Lorenzo\"\n",
    "print(f\"Hello \" + first_name.__getitem__(0) + first_name.__getitem__(-1))\n",
    "\n",
    "#digit_check = [char.isdigit() for char in first_name]\n",
    "\n",
    "digit_check = first_name.isdigit()\n",
    "print(digit_check)\n",
    "\n",
    "user_input = input(\"How do you feel today: \")\n",
    "user_input = user_input.replace(\"sad\", \"happy\")\n",
    "words = user_input.split()\n",
    "print(f\"{words[0]}\\n{words[1]}\\n{words[2]}\")\n",
    "\n",
    "##for word in words:\n",
    " ##   print(word)\n",
    "\n",
    "\n",
    "\n",
    "\n"
   ]
  },
  {
   "cell_type": "code",
   "execution_count": 9,
   "metadata": {},
   "outputs": [
    {
     "name": "stdout",
     "output_type": "stream",
     "text": [
      "ren\n",
      "Lorenzo benvenuto nell'app\n",
      "7\n"
     ]
    }
   ],
   "source": [
    "# Variabili\n",
    "Variable_name = \"value\"\n",
    "name = \"Lorenzo\"\n",
    "\n",
    "# Creazione username\n",
    "username = name.__getitem__(0) + name.__getitem__(-1)\n",
    "\n",
    "# Unique code generation\n",
    "middle_carachter = int(len(name) // 2)\n",
    "unique_code = name[middle_carachter-1] + name[middle_carachter] + name[middle_carachter+1]\n",
    "print(unique_code)\n",
    "\n",
    "# Personalized message\n",
    "message = f\"{name} benvenuto nell'app\"\n",
    "print(message)\n",
    "\n",
    "# Len name\n",
    "print(len(name))"
   ]
  },
  {
   "cell_type": "code",
   "execution_count": 32,
   "metadata": {},
   "outputs": [
    {
     "name": "stdout",
     "output_type": "stream",
     "text": [
      "enzo il meglio del Colos\n"
     ]
    }
   ],
   "source": [
    "name = \"Lorenzo il meglio del Colosseo\"\n",
    "print(name[3:-3])\n"
   ]
  },
  {
   "cell_type": "code",
   "execution_count": 27,
   "metadata": {},
   "outputs": [
    {
     "name": "stdout",
     "output_type": "stream",
     "text": [
      "The SKY is blue\n",
      "Today's highlighted word is: SKY\n"
     ]
    }
   ],
   "source": [
    "# Quote\n",
    "quote_of_the_day = \"The sky is blue\"\n",
    "\n",
    "# Extract the fourth word \n",
    "extracted_word = quote_of_the_day.split()[1]\n",
    "\n",
    "# Uppercase the extracted word \n",
    "quote_of_the_day = quote_of_the_day.replace(extracted_word, extracted_word.upper())\n",
    "print(quote_of_the_day)\n",
    "\n",
    "# Final sentence\n",
    "print(f\"Today's highlighted word is: {extracted_word.upper()}\")"
   ]
  },
  {
   "cell_type": "code",
   "execution_count": 38,
   "metadata": {},
   "outputs": [],
   "source": [
    "def print_last_letter_of(string, index=-1):\n",
    "    last_letter = string[index]\n",
    "    print (last_letter)\n",
    "\n",
    "##stringa = \"ciao io sono lollo barcollo ma non mollo\"\n"
   ]
  },
  {
   "cell_type": "code",
   "execution_count": 41,
   "metadata": {},
   "outputs": [
    {
     "name": "stdout",
     "output_type": "stream",
     "text": [
      "o\n"
     ]
    }
   ],
   "source": [
    "print_last_letter_of(string = \"ciao io sono lollo barcollo ma non mollo\")"
   ]
  },
  {
   "cell_type": "code",
   "execution_count": 42,
   "metadata": {},
   "outputs": [],
   "source": [
    "def take_a_letter_of(string, index=-1):\n",
    "    letter = string[index]\n",
    "    return letter"
   ]
  },
  {
   "cell_type": "code",
   "execution_count": 44,
   "metadata": {},
   "outputs": [
    {
     "name": "stdout",
     "output_type": "stream",
     "text": [
      "o\n"
     ]
    }
   ],
   "source": [
    "result = take_a_letter_of(string = \"ciao io sono lollo barcollo ma non mollo\")\n",
    "print(result)"
   ]
  }
 ],
 "metadata": {
  "kernelspec": {
   "display_name": ".venv",
   "language": "python",
   "name": "python3"
  },
  "language_info": {
   "codemirror_mode": {
    "name": "ipython",
    "version": 3
   },
   "file_extension": ".py",
   "mimetype": "text/x-python",
   "name": "python",
   "nbconvert_exporter": "python",
   "pygments_lexer": "ipython3",
   "version": "3.12.8"
  }
 },
 "nbformat": 4,
 "nbformat_minor": 2
}
