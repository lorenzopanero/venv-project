{
 "cells": [
  {
   "cell_type": "code",
   "execution_count": 7,
   "metadata": {},
   "outputs": [
    {
     "name": "stdout",
     "output_type": "stream",
     "text": [
      "Se nni mondo esistesse un pò di bene\n"
     ]
    }
   ],
   "source": [
    "a = \"Se nni mondo\"\n",
    "b = \"esistesse un pò di bene\"\n",
    "print(a, b)"
   ]
  },
  {
   "cell_type": "code",
   "execution_count": 10,
   "metadata": {},
   "outputs": [
    {
     "data": {
      "text/plain": [
       "['__add__',\n",
       " '__class__',\n",
       " '__contains__',\n",
       " '__delattr__',\n",
       " '__dir__',\n",
       " '__doc__',\n",
       " '__eq__',\n",
       " '__format__',\n",
       " '__ge__',\n",
       " '__getattribute__',\n",
       " '__getitem__',\n",
       " '__getnewargs__',\n",
       " '__getstate__',\n",
       " '__gt__',\n",
       " '__hash__',\n",
       " '__init__',\n",
       " '__init_subclass__',\n",
       " '__iter__',\n",
       " '__le__',\n",
       " '__len__',\n",
       " '__lt__',\n",
       " '__mod__',\n",
       " '__mul__',\n",
       " '__ne__',\n",
       " '__new__',\n",
       " '__reduce__',\n",
       " '__reduce_ex__',\n",
       " '__repr__',\n",
       " '__rmod__',\n",
       " '__rmul__',\n",
       " '__setattr__',\n",
       " '__sizeof__',\n",
       " '__str__',\n",
       " '__subclasshook__',\n",
       " 'capitalize',\n",
       " 'casefold',\n",
       " 'center',\n",
       " 'count',\n",
       " 'encode',\n",
       " 'endswith',\n",
       " 'expandtabs',\n",
       " 'find',\n",
       " 'format',\n",
       " 'format_map',\n",
       " 'index',\n",
       " 'isalnum',\n",
       " 'isalpha',\n",
       " 'isascii',\n",
       " 'isdecimal',\n",
       " 'isdigit',\n",
       " 'isidentifier',\n",
       " 'islower',\n",
       " 'isnumeric',\n",
       " 'isprintable',\n",
       " 'isspace',\n",
       " 'istitle',\n",
       " 'isupper',\n",
       " 'join',\n",
       " 'ljust',\n",
       " 'lower',\n",
       " 'lstrip',\n",
       " 'maketrans',\n",
       " 'partition',\n",
       " 'removeprefix',\n",
       " 'removesuffix',\n",
       " 'replace',\n",
       " 'rfind',\n",
       " 'rindex',\n",
       " 'rjust',\n",
       " 'rpartition',\n",
       " 'rsplit',\n",
       " 'rstrip',\n",
       " 'split',\n",
       " 'splitlines',\n",
       " 'startswith',\n",
       " 'strip',\n",
       " 'swapcase',\n",
       " 'title',\n",
       " 'translate',\n",
       " 'upper',\n",
       " 'zfill']"
      ]
     },
     "execution_count": 10,
     "metadata": {},
     "output_type": "execute_result"
    }
   ],
   "source": [
    "dir(a)"
   ]
  },
  {
   "cell_type": "code",
   "execution_count": 17,
   "metadata": {},
   "outputs": [
    {
     "data": {
      "text/plain": [
       "'n'"
      ]
     },
     "execution_count": 17,
     "metadata": {},
     "output_type": "execute_result"
    }
   ],
   "source": [
    "a[3]"
   ]
  },
  {
   "cell_type": "code",
   "execution_count": 22,
   "metadata": {},
   "outputs": [],
   "source": [
    "c = \"Hello World!\"\n",
    "d = \"Ciao mondo!\"\n",
    "e = \"Konichiwa sekai!\""
   ]
  },
  {
   "cell_type": "code",
   "execution_count": 21,
   "metadata": {},
   "outputs": [
    {
     "data": {
      "text/plain": [
       "'!'"
      ]
     },
     "execution_count": 21,
     "metadata": {},
     "output_type": "execute_result"
    }
   ],
   "source": [
    "c[-1]"
   ]
  },
  {
   "cell_type": "code",
   "execution_count": 24,
   "metadata": {},
   "outputs": [],
   "source": [
    "#Questo è un commento in Python"
   ]
  },
  {
   "cell_type": "code",
   "execution_count": 28,
   "metadata": {},
   "outputs": [
    {
     "name": "stdout",
     "output_type": "stream",
     "text": [
      "Hello World! Ciao mondo! Konichiwa sekai!\n"
     ]
    }
   ],
   "source": [
    "#Concatenazione di stringhe\n",
    "f = c + \" \" + d + \" \" + e\n",
    "print(f)"
   ]
  },
  {
   "cell_type": "code",
   "execution_count": null,
   "metadata": {},
   "outputs": [
    {
     "data": {
      "text/plain": [
       "'Hello World! Ciao mondo! Konichiwa sekai! : la stringa è lunga 41 caratteri'"
      ]
     },
     "execution_count": 34,
     "metadata": {},
     "output_type": "execute_result"
    }
   ],
   "source": [
    "# Lunghezza di una stringa\n",
    "g = f + \" : la stringa è lunga \" + str(len(f)) + \" caratteri\"\n",
    "g"
   ]
  },
  {
   "cell_type": "code",
   "execution_count": 91,
   "metadata": {},
   "outputs": [
    {
     "data": {
      "text/plain": [
       "\"'Hello World!'\""
      ]
     },
     "execution_count": 91,
     "metadata": {},
     "output_type": "execute_result"
    }
   ],
   "source": [
    "# Accesso ai metodi di una classe\n",
    "c.upper() #Tutte le lettere maiuscole\n",
    "c.capitalize() #Prima lettera maiuscola\n",
    "c.lower() #Tutte le lettere minuscole\n",
    "c.lstrip() #Elimina gli spazi bianchi a sinistra\n",
    "c.rstrip() #Elimina gli spazi bianchi a destra\n",
    "c.strip() #Elimina gli spazi bianchi a destra e a sinistra\n",
    "c.split() #Separa la stringa in una lista di stringhe\n",
    "c.split(\" \") #Separa la stringa in una lista di stringhe usando uno spazio come separatore \n",
    "c.replace(\"Hello\", \"Ciao\") #Sostituisce una stringa con un'altra\n",
    "c.find(\"World\") #Trova la posizione di una stringa all'interno di un'altra\n",
    "c.count(\"l\") #Conta quante volte una stringa è presente in un'altra\n",
    "c.startswith(\"Hello\") #Controlla se una stringa inizia con un'altra\n",
    "c.endswith(\"World!\") #Controlla se una stringa finisce con un'altra \n",
    "c.isalnum() #Controlla se la stringa è alfanumerica\n",
    "c.isalpha() #Controlla se la stringa è alfabetica\n",
    "c.isdigit() #Controlla se la stringa è numerica\n",
    "c.islower() #Controlla se la stringa è tutta minuscola\n",
    "c.isupper() #Controlla se la stringa è tutta maiuscola\n",
    "c.isspace() #Controlla se la stringa è vuota\n",
    "c.istitle() #Controlla se la stringa è un titolo\n",
    "c.join([\"Hello \", \" World!\"]) #Unisce una lista di stringhe in una stringa\n",
    "c.center(20) #Centra la stringa in una stringa di 20 caratteri\n",
    "c.ljust(20) #Allinea la stringa a sinistra in una stringa di 20 caratteri\n",
    "c.rjust(20) #Allinea la stringa a destra in una stringa di 20 caratteri\n",
    "c.zfill(20) #Aggiunge degli zeri a sinistra fino a raggiungere 20 caratteri \n",
    "c.title() #Trasforma la stringa in un titolo    \n",
    "c.swapcase() #Scambia le lettere maiuscole con le lettere minuscole\n",
    "c.partition(\" \") #Separa la stringa in tre parti usando uno spazio come separatore\n",
    "c.rpartition(\" \") #Separa la stringa in tre parti usando uno spazio come separatore partendo da destra\n",
    "c.__len__() #Lunghezza della stringa\n",
    "c.__getitem__(0) #Primo carattere della stringa\n",
    "c.__getitem__(-1) #Ultimo carattere della stringa\n",
    "c.__add__(\"!\") #Aggiunge un carattere alla stringa\n",
    "c.__mul__(2) #Ripete la stringa due volte\n",
    "c.__contains__(\"World\") #Controlla se una stringa è contenuta in un'altra\n",
    "c.__eq__(\"Hello World!\") #Controlla se due stringhe sono uguali\n",
    "c.__ne__(\"Hello World!\") #Controlla se due stringhe sono diverse\n",
    "c.__lt__(\"Hello World!\") #Controlla se una stringa è minore di un'altra\n",
    "c.__le__(\"Hello World!\") #Controlla se una stringa è minore o uguale di un'altra\n",
    "c.__gt__(\"Hello World!\") #Controlla se una stringa è maggiore di un'altra\n",
    "c.__ge__(\"Hello World!\") #Controlla se una stringa è maggiore o uguale di un'altra\n",
    "c.__hash__() #Hash della stringa\n",
    "c.__str__() #Stringa\n",
    "c.__repr__() #Rappresentazione della stringa\n"
   ]
  },
  {
   "cell_type": "code",
   "execution_count": 38,
   "metadata": {},
   "outputs": [
    {
     "data": {
      "text/plain": [
       "['__add__',\n",
       " '__class__',\n",
       " '__contains__',\n",
       " '__delattr__',\n",
       " '__dir__',\n",
       " '__doc__',\n",
       " '__eq__',\n",
       " '__format__',\n",
       " '__ge__',\n",
       " '__getattribute__',\n",
       " '__getitem__',\n",
       " '__getnewargs__',\n",
       " '__getstate__',\n",
       " '__gt__',\n",
       " '__hash__',\n",
       " '__init__',\n",
       " '__init_subclass__',\n",
       " '__iter__',\n",
       " '__le__',\n",
       " '__len__',\n",
       " '__lt__',\n",
       " '__mod__',\n",
       " '__mul__',\n",
       " '__ne__',\n",
       " '__new__',\n",
       " '__reduce__',\n",
       " '__reduce_ex__',\n",
       " '__repr__',\n",
       " '__rmod__',\n",
       " '__rmul__',\n",
       " '__setattr__',\n",
       " '__sizeof__',\n",
       " '__str__',\n",
       " '__subclasshook__',\n",
       " 'capitalize',\n",
       " 'casefold',\n",
       " 'center',\n",
       " 'count',\n",
       " 'encode',\n",
       " 'endswith',\n",
       " 'expandtabs',\n",
       " 'find',\n",
       " 'format',\n",
       " 'format_map',\n",
       " 'index',\n",
       " 'isalnum',\n",
       " 'isalpha',\n",
       " 'isascii',\n",
       " 'isdecimal',\n",
       " 'isdigit',\n",
       " 'isidentifier',\n",
       " 'islower',\n",
       " 'isnumeric',\n",
       " 'isprintable',\n",
       " 'isspace',\n",
       " 'istitle',\n",
       " 'isupper',\n",
       " 'join',\n",
       " 'ljust',\n",
       " 'lower',\n",
       " 'lstrip',\n",
       " 'maketrans',\n",
       " 'partition',\n",
       " 'removeprefix',\n",
       " 'removesuffix',\n",
       " 'replace',\n",
       " 'rfind',\n",
       " 'rindex',\n",
       " 'rjust',\n",
       " 'rpartition',\n",
       " 'rsplit',\n",
       " 'rstrip',\n",
       " 'split',\n",
       " 'splitlines',\n",
       " 'startswith',\n",
       " 'strip',\n",
       " 'swapcase',\n",
       " 'title',\n",
       " 'translate',\n",
       " 'upper',\n",
       " 'zfill']"
      ]
     },
     "execution_count": 38,
     "metadata": {},
     "output_type": "execute_result"
    }
   ],
   "source": [
    "dir(c)"
   ]
  },
  {
   "cell_type": "code",
   "execution_count": 97,
   "metadata": {},
   "outputs": [
    {
     "name": "stdout",
     "output_type": "stream",
     "text": [
      "on Tom LONG wolk\n"
     ]
    },
    {
     "data": {
      "text/plain": [
       "['on', 'Tom', 'LONG', 'wolk']"
      ]
     },
     "execution_count": 97,
     "metadata": {},
     "output_type": "execute_result"
    }
   ],
   "source": [
    "phrase = \"ON\".lower() + \" \" + \"tom\".capitalize() + \" \" + \"long\".upper() + \" \" + \"walk\".replace(\"a\", \"o\")\n",
    "print(phrase)\n",
    "phrase.split()"
   ]
  },
  {
   "cell_type": "code",
   "execution_count": 99,
   "metadata": {},
   "outputs": [
    {
     "name": "stdout",
     "output_type": "stream",
     "text": [
      "welcome James, you are 25 years old\n"
     ]
    }
   ],
   "source": [
    "name = \"James\"\n",
    "age = 25\n",
    "print(\"welcome \" + name + \", you are \" + str(age) + \" years old\")"
   ]
  },
  {
   "cell_type": "code",
   "execution_count": 105,
   "metadata": {},
   "outputs": [
    {
     "name": "stdout",
     "output_type": "stream",
     "text": [
      "welcome I'm James, I'm 25 years old and I live in London\n",
      "welcome I'm Champion James, I'm 25 years old and I live in London\n",
      "welcome I'm Champion James, I'm 25 years old, I'm 1.85 meters tall and I live in London\n"
     ]
    }
   ],
   "source": [
    "name, age, city = \"James\", 25, \"London\"\n",
    "print(\"welcome I'm \" + name + \", I'm \" + str(age) + \" years old and I live in \" + city)\n",
    "name = \"Champion \" + name\n",
    "print(\"welcome I'm \" + name + \", I'm \" + str(age) + \" years old and I live in \" + city)\n",
    "height = 1.85\n",
    "is_hero = True\n",
    "print(\"welcome I'm \" + name + \", I'm \" + str(age) + \" years old, I'm \" + str(height) + \" meters tall and I live in \" + city)"
   ]
  },
  {
   "cell_type": "code",
   "execution_count": 112,
   "metadata": {},
   "outputs": [
    {
     "name": "stdout",
     "output_type": "stream",
     "text": [
      "Name: Lorenzo, Age: 25, City: Fossano\n"
     ]
    },
    {
     "data": {
      "text/plain": [
       "'fossano'"
      ]
     },
     "execution_count": 112,
     "metadata": {},
     "output_type": "execute_result"
    }
   ],
   "source": [
    "name = input(\"What is your name? \")\n",
    "age = input(\"How old are you? \")\n",
    "city = input(\"Which city do you live in? \")\n",
    "\n",
    "print(f\"Name: {name}, Age: {age}, City: {city}\")\n",
    "\n",
    "name.lower()\n",
    "city.lower()\n",
    "\n",
    "len(name)\n",
    "len(city)\n",
    "\n",
    "first_name = input(\"What is your first name? \")\n",
    "last_name = input(\"What is your last name? \")\n",
    "print(f\"Hello {first_name} {last_name}!\")\n",
    "\n",
    "fav_language = input(\"What is your favourite programming language? \")\n",
    "\n",
    "actual_year = input(\"What year is it? \")\n",
    "birth_year = input(\"What year were you born? \")\n",
    "age_calc = int(actual_year) - int(birth_year)\n",
    "print(f\"You are {age_calc} years old\")\n",
    "\n",
    "bio = input(\"Tell me something about you: \")\n",
    "print(len(bio))"
   ]
  },
  {
   "cell_type": "code",
   "execution_count": 29,
   "metadata": {},
   "outputs": [
    {
     "name": "stdout",
     "output_type": "stream",
     "text": [
      "Hello Lo\n",
      "False\n",
      "mi\n",
      "sento\n",
      "happy\n"
     ]
    }
   ],
   "source": [
    "first_name = \"Lorenzo\"\n",
    "print(f\"Hello \" + first_name.__getitem__(0) + first_name.__getitem__(-1))\n",
    "\n",
    "#digit_check = [char.isdigit() for char in first_name]\n",
    "\n",
    "digit_check = first_name.isdigit()\n",
    "print(digit_check)\n",
    "\n",
    "user_input = input(\"How do you feel today: \")\n",
    "user_input = user_input.replace(\"sad\", \"happy\")\n",
    "words = user_input.split()\n",
    "print(f\"{words[0]}\\n{words[1]}\\n{words[2]}\")\n",
    "\n",
    "##for word in words:\n",
    " ##   print(word)\n",
    "\n",
    "\n",
    "\n",
    "\n"
   ]
  },
  {
   "cell_type": "code",
   "execution_count": 9,
   "metadata": {},
   "outputs": [
    {
     "name": "stdout",
     "output_type": "stream",
     "text": [
      "ren\n",
      "Lorenzo benvenuto nell'app\n",
      "7\n"
     ]
    }
   ],
   "source": [
    "# Variabili\n",
    "Variable_name = \"value\"\n",
    "name = \"Lorenzo\"\n",
    "\n",
    "# Creazione username\n",
    "username = name.__getitem__(0) + name.__getitem__(-1)\n",
    "\n",
    "# Unique code generation\n",
    "middle_carachter = int(len(name) // 2)\n",
    "unique_code = name[middle_carachter-1] + name[middle_carachter] + name[middle_carachter+1]\n",
    "print(unique_code)\n",
    "\n",
    "# Personalized message\n",
    "message = f\"{name} benvenuto nell'app\"\n",
    "print(message)\n",
    "\n",
    "# Len name\n",
    "print(len(name))"
   ]
  },
  {
   "cell_type": "code",
   "execution_count": 32,
   "metadata": {},
   "outputs": [
    {
     "name": "stdout",
     "output_type": "stream",
     "text": [
      "enzo il meglio del Colos\n"
     ]
    }
   ],
   "source": [
    "name = \"Lorenzo il meglio del Colosseo\"\n",
    "print(name[3:-3])\n"
   ]
  },
  {
   "cell_type": "code",
   "execution_count": 27,
   "metadata": {},
   "outputs": [
    {
     "name": "stdout",
     "output_type": "stream",
     "text": [
      "The SKY is blue\n",
      "Today's highlighted word is: SKY\n"
     ]
    }
   ],
   "source": [
    "# Quote\n",
    "quote_of_the_day = \"The sky is blue\"\n",
    "\n",
    "# Extract the fourth word \n",
    "extracted_word = quote_of_the_day.split()[1]\n",
    "\n",
    "# Uppercase the extracted word \n",
    "quote_of_the_day = quote_of_the_day.replace(extracted_word, extracted_word.upper())\n",
    "print(quote_of_the_day)\n",
    "\n",
    "# Final sentence\n",
    "print(f\"Today's highlighted word is: {extracted_word.upper()}\")"
   ]
  },
  {
   "cell_type": "code",
   "execution_count": 38,
   "metadata": {},
   "outputs": [],
   "source": [
    "def print_last_letter_of(string, index=-1):\n",
    "    last_letter = string[index]\n",
    "    print (last_letter)\n",
    "\n",
    "##stringa = \"ciao io sono lollo barcollo ma non mollo\"\n"
   ]
  },
  {
   "cell_type": "code",
   "execution_count": 41,
   "metadata": {},
   "outputs": [
    {
     "name": "stdout",
     "output_type": "stream",
     "text": [
      "o\n"
     ]
    }
   ],
   "source": [
    "print_last_letter_of(string = \"ciao io sono lollo barcollo ma non mollo\")"
   ]
  },
  {
   "cell_type": "code",
   "execution_count": 42,
   "metadata": {},
   "outputs": [],
   "source": [
    "def take_a_letter_of(string, index=-1):\n",
    "    letter = string[index]\n",
    "    return letter"
   ]
  },
  {
   "cell_type": "code",
   "execution_count": 44,
   "metadata": {},
   "outputs": [
    {
     "name": "stdout",
     "output_type": "stream",
     "text": [
      "o\n"
     ]
    }
   ],
   "source": [
    "result = take_a_letter_of(string = \"ciao io sono lollo barcollo ma non mollo\")\n",
    "print(result)"
   ]
  },
  {
   "cell_type": "code",
   "execution_count": 4,
   "metadata": {},
   "outputs": [
    {
     "name": "stdout",
     "output_type": "stream",
     "text": [
      "You have 137.6 pounds\n"
     ]
    }
   ],
   "source": [
    "euros = int(input(\"How many euros do you have? \"))\n",
    "rate = 0.86\n",
    "pound = euros * rate\n",
    "print(f\"You have {pound} pounds\")"
   ]
  },
  {
   "cell_type": "code",
   "execution_count": 7,
   "metadata": {},
   "outputs": [
    {
     "name": "stdout",
     "output_type": "stream",
     "text": [
      "The volume of the pool is 2500 m3, or 2500000 liters\n"
     ]
    }
   ],
   "source": [
    "volume = 50*25*2 \n",
    "print(f\"The volume of the pool is {volume} m3, or {volume*1000} liters\")"
   ]
  },
  {
   "cell_type": "code",
   "execution_count": 15,
   "metadata": {},
   "outputs": [],
   "source": [
    "import math\n",
    "from math import *"
   ]
  },
  {
   "cell_type": "code",
   "execution_count": 20,
   "metadata": {},
   "outputs": [
    {
     "data": {
      "text/plain": [
       "inf"
      ]
     },
     "execution_count": 20,
     "metadata": {},
     "output_type": "execute_result"
    }
   ],
   "source": [
    "sqrt(9)\n",
    "cos(0)\n",
    "sin (0)\n",
    "tan(0)\n",
    "log(10)\n",
    "log10(10)\n",
    "exp(1)\n",
    "pi\n",
    "e\n",
    "degrees(1)\n",
    "inf"
   ]
  },
  {
   "cell_type": "code",
   "execution_count": 14,
   "metadata": {},
   "outputs": [
    {
     "data": {
      "text/plain": [
       "15.0"
      ]
     },
     "execution_count": 14,
     "metadata": {},
     "output_type": "execute_result"
    }
   ],
   "source": [
    "math.fsum([1, 2, 3, 4, 5])"
   ]
  },
  {
   "cell_type": "code",
   "execution_count": 23,
   "metadata": {},
   "outputs": [
    {
     "name": "stdout",
     "output_type": "stream",
     "text": [
      "Real part: 1.0, Imaginary part: 2.0\n",
      "Module: 2.23606797749979\n"
     ]
    }
   ],
   "source": [
    "#Math module exercise\n",
    "complex_number = 1 + 2j\n",
    "print(f\"Real part: {complex_number.real}, Imaginary part: {complex_number.imag}\")\n",
    "module = math.sqrt(complex_number.real**2 + complex_number.imag**2)\n",
    "print(f\"Module: {module}\")"
   ]
  },
  {
   "cell_type": "code",
   "execution_count": 24,
   "metadata": {},
   "outputs": [
    {
     "data": {
      "text/plain": [
       "0.49999999999999994"
      ]
     },
     "execution_count": 24,
     "metadata": {},
     "output_type": "execute_result"
    }
   ],
   "source": [
    "math.sin(math.pi/6)"
   ]
  },
  {
   "cell_type": "code",
   "execution_count": 26,
   "metadata": {},
   "outputs": [
    {
     "data": {
      "text/plain": [
       "(-0.6536436208636119-0.7568024953079282j)"
      ]
     },
     "execution_count": 26,
     "metadata": {},
     "output_type": "execute_result"
    }
   ],
   "source": [
    "b = 4j\n",
    "math.e ** (b)\n",
    "cos(b.imag)\n",
    "sin(b.imag)"
   ]
  },
  {
   "cell_type": "code",
   "execution_count": 28,
   "metadata": {},
   "outputs": [
    {
     "name": "stdout",
     "output_type": "stream",
     "text": [
      "11\n"
     ]
    }
   ],
   "source": [
    "#incremental e decremental operators\n",
    "a = 10\n",
    "a += 1\n",
    "print(a)\n"
   ]
  },
  {
   "cell_type": "code",
   "execution_count": 43,
   "metadata": {},
   "outputs": [
    {
     "data": {
      "text/plain": [
       "True"
      ]
     },
     "execution_count": 43,
     "metadata": {},
     "output_type": "execute_result"
    }
   ],
   "source": [
    "#logic operators\n",
    "a = True\n",
    "b = False\n",
    "a or b"
   ]
  },
  {
   "cell_type": "code",
   "execution_count": 42,
   "metadata": {},
   "outputs": [
    {
     "data": {
      "text/plain": [
       "False"
      ]
     },
     "execution_count": 42,
     "metadata": {},
     "output_type": "execute_result"
    }
   ],
   "source": [
    "#NOR\n",
    "not (a or b)"
   ]
  },
  {
   "cell_type": "code",
   "execution_count": 1,
   "metadata": {},
   "outputs": [
    {
     "data": {
      "text/plain": [
       "86.0"
      ]
     },
     "execution_count": 1,
     "metadata": {},
     "output_type": "execute_result"
    }
   ],
   "source": [
    "#lambda operator\n",
    "rate = 0.86\n",
    "conversion = lambda euros: euros * rate\n",
    "conversion(100)"
   ]
  },
  {
   "cell_type": "code",
   "execution_count": 4,
   "metadata": {},
   "outputs": [
    {
     "name": "stdout",
     "output_type": "stream",
     "text": [
      "1\n"
     ]
    }
   ],
   "source": [
    "#operators 1 \n",
    "## calcola il resto di una divisione \n",
    "mele = 5 \n",
    "studenti = 2 \n",
    "resto = mele % studenti\n",
    "print(resto)"
   ]
  },
  {
   "cell_type": "code",
   "execution_count": 8,
   "metadata": {},
   "outputs": [
    {
     "name": "stdout",
     "output_type": "stream",
     "text": [
      "False\n",
      "Access granted\n"
     ]
    }
   ],
   "source": [
    "#operators 2 \n",
    "## security system\n",
    "first_name = \"Mario\"\n",
    "last_name = \"Johnson\"\n",
    "corrispondence = first_name == \"Mario\" and last_name == \"Smith\"\n",
    "print(corrispondence)\n",
    "if corrispondence == True:\n",
    "    print(\"Access denied\")\n",
    "else: \n",
    "    print(\"Access granted\")"
   ]
  },
  {
   "cell_type": "code",
   "execution_count": 9,
   "metadata": {},
   "outputs": [
    {
     "name": "stdout",
     "output_type": "stream",
     "text": [
      "Mario rossi\n"
     ]
    }
   ],
   "source": [
    "#operators 3 \n",
    "## combines two strings\n",
    "first_name = \"Mario\"\n",
    "last_name = \"rossi\"\n",
    "full_name = first_name + \" \" + last_name\n",
    "print(full_name)"
   ]
  },
  {
   "cell_type": "code",
   "execution_count": null,
   "metadata": {},
   "outputs": [
    {
     "name": "stdout",
     "output_type": "stream",
     "text": [
      "The user can drive: False\n"
     ]
    }
   ],
   "source": [
    "#operators 4\n",
    "\n",
    "age = int(input(\"How old are you? \"))\n",
    "driving_license = bool(input(\"Do you have a driving license? \"))\n",
    "can_drive = age >= 18 and driving_license == True\n",
    "print(f\"The user can drive? {can_drive}\")"
   ]
  },
  {
   "cell_type": "code",
   "execution_count": 17,
   "metadata": {},
   "outputs": [
    {
     "name": "stdout",
     "output_type": "stream",
     "text": [
      "The network address is: 34\n"
     ]
    }
   ],
   "source": [
    "#operators 5\n",
    "ipv4_address = input(\"Enter an IPv4 address: \")\n",
    "subnet_mask = input(\"Enter a subnet mask: \")\n",
    "network_address = ipv4_address and subnet_mask\n",
    "print(f\"The network address is: {network_address}\")"
   ]
  },
  {
   "cell_type": "code",
   "execution_count": 20,
   "metadata": {},
   "outputs": [
    {
     "name": "stdout",
     "output_type": "stream",
     "text": [
      "the total of items in the bakery is 7\n",
      "The remaining lives are 5\n",
      "The total cost is 15\n",
      "the students in each team are 4, with 0 students left over\n"
     ]
    }
   ],
   "source": [
    "#operators 6\n",
    "a = 3 \n",
    "b = 4\n",
    "print(f\"the total of items in the bakery is {a+b}\")\n",
    "\n",
    "x = 7\n",
    "y = 2\n",
    "print(f\"The remaining lives are {x-y}\")\n",
    "\n",
    "p = 5\n",
    "q = 3\n",
    "print(f\"The total cost is {p*q}\")\n",
    "\n",
    "m = 8\n",
    "n = 2 \n",
    "print(f\"the students in each team are {m//n}, with {m%n} students left over\")"
   ]
  },
  {
   "cell_type": "code",
   "execution_count": 29,
   "metadata": {},
   "outputs": [
    {
     "name": "stdout",
     "output_type": "stream",
     "text": [
      "1\n",
      "1\n",
      "35\n",
      "79.6\n",
      "The lowest price is 5, the highest price is 25\n"
     ]
    }
   ],
   "source": [
    "#operators 7\n",
    "b = 4\n",
    "a = 3\n",
    "print(b//a)\n",
    "print(b%a)\n",
    "\n",
    "numbers = [3, 5, 7, 9, 11]\n",
    "total_sum = sum(numbers)\n",
    "print(total_sum)\n",
    "\n",
    "grades = [83, 85, 72, 63, 95]\n",
    "average_grade = sum(grades) / len(grades)\n",
    "print(average_grade)\n",
    "\n",
    "prices = [5, 10, 15, 20, 25]\n",
    "lowest_price = min(prices)\n",
    "highest_price = max(prices)\n",
    "print(f\"The lowest price is {lowest_price}, the highest price is {highest_price}\")"
   ]
  },
  {
   "cell_type": "code",
   "execution_count": 46,
   "metadata": {},
   "outputs": [
    {
     "name": "stdout",
     "output_type": "stream",
     "text": [
      "11\n",
      "[1, 3, 5, 7, 9]\n",
      "['apple', 'banana', 'cherry'] [1, 3, 5]\n"
     ]
    }
   ],
   "source": [
    "#operators 8\n",
    "sentence = \"The quick brown fox jumps over the lazy dog.\"\n",
    "vowels = [\"a\", \"e\", \"i\", \"o\", \"u\"]\n",
    "vowel_count = sum(sentence.count(vowels) for vowels in vowels)\n",
    "print(vowel_count)\n",
    "\n",
    "numbers = [1, 2, 3, 4, 5, 6, 7, 8, 9, 10]\n",
    "odd_numbers = [number for number in numbers if number % 2 == 1]\n",
    "print(odd_numbers)\n",
    "\n",
    "list = [1, \"apple\", 3, \"banana\", 5, \"cherry\"]\n",
    "string_list = [list for list in list if type(list) == str]\n",
    "number_list = [list for list in list if type(list) == int]\n",
    "print(string_list, number_list)"
   ]
  },
  {
   "cell_type": "code",
   "execution_count": 50,
   "metadata": {},
   "outputs": [
    {
     "name": "stdout",
     "output_type": "stream",
     "text": [
      "The original price was 14.99, the new price is 15\n"
     ]
    }
   ],
   "source": [
    "#casting \n",
    "price = 14.99\n",
    "new_price = round(price)\n",
    "price_tag = str(new_price)\n",
    "print(f\"The original price was {price}, the new price is {price_tag}\")"
   ]
  },
  {
   "cell_type": "code",
   "execution_count": 51,
   "metadata": {},
   "outputs": [
    {
     "name": "stdout",
     "output_type": "stream",
     "text": [
      "The orginal amount is 100.50895, the rounded amount is 100.51\n"
     ]
    }
   ],
   "source": [
    "#rounding \n",
    "amount_in_usd = 100.50895\n",
    "display_amount = round(amount_in_usd, 2)\n",
    "print(f\"The orginal amount is {amount_in_usd}, the rounded amount is {display_amount}\")"
   ]
  }
 ],
 "metadata": {
  "kernelspec": {
   "display_name": ".venv",
   "language": "python",
   "name": "python3"
  },
  "language_info": {
   "codemirror_mode": {
    "name": "ipython",
    "version": 3
   },
   "file_extension": ".py",
   "mimetype": "text/x-python",
   "name": "python",
   "nbconvert_exporter": "python",
   "pygments_lexer": "ipython3",
   "version": "3.12.8"
  }
 },
 "nbformat": 4,
 "nbformat_minor": 2
}
