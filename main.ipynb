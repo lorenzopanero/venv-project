{
 "cells": [
  {
   "cell_type": "code",
   "execution_count": 7,
   "metadata": {},
   "outputs": [
    {
     "name": "stdout",
     "output_type": "stream",
     "text": [
      "Se nni mondo esistesse un pò di bene\n"
     ]
    }
   ],
   "source": [
    "a = \"Se nni mondo\"\n",
    "b = \"esistesse un pò di bene\"\n",
    "print(a, b)"
   ]
  },
  {
   "cell_type": "code",
   "execution_count": 10,
   "metadata": {},
   "outputs": [
    {
     "data": {
      "text/plain": [
       "['__add__',\n",
       " '__class__',\n",
       " '__contains__',\n",
       " '__delattr__',\n",
       " '__dir__',\n",
       " '__doc__',\n",
       " '__eq__',\n",
       " '__format__',\n",
       " '__ge__',\n",
       " '__getattribute__',\n",
       " '__getitem__',\n",
       " '__getnewargs__',\n",
       " '__getstate__',\n",
       " '__gt__',\n",
       " '__hash__',\n",
       " '__init__',\n",
       " '__init_subclass__',\n",
       " '__iter__',\n",
       " '__le__',\n",
       " '__len__',\n",
       " '__lt__',\n",
       " '__mod__',\n",
       " '__mul__',\n",
       " '__ne__',\n",
       " '__new__',\n",
       " '__reduce__',\n",
       " '__reduce_ex__',\n",
       " '__repr__',\n",
       " '__rmod__',\n",
       " '__rmul__',\n",
       " '__setattr__',\n",
       " '__sizeof__',\n",
       " '__str__',\n",
       " '__subclasshook__',\n",
       " 'capitalize',\n",
       " 'casefold',\n",
       " 'center',\n",
       " 'count',\n",
       " 'encode',\n",
       " 'endswith',\n",
       " 'expandtabs',\n",
       " 'find',\n",
       " 'format',\n",
       " 'format_map',\n",
       " 'index',\n",
       " 'isalnum',\n",
       " 'isalpha',\n",
       " 'isascii',\n",
       " 'isdecimal',\n",
       " 'isdigit',\n",
       " 'isidentifier',\n",
       " 'islower',\n",
       " 'isnumeric',\n",
       " 'isprintable',\n",
       " 'isspace',\n",
       " 'istitle',\n",
       " 'isupper',\n",
       " 'join',\n",
       " 'ljust',\n",
       " 'lower',\n",
       " 'lstrip',\n",
       " 'maketrans',\n",
       " 'partition',\n",
       " 'removeprefix',\n",
       " 'removesuffix',\n",
       " 'replace',\n",
       " 'rfind',\n",
       " 'rindex',\n",
       " 'rjust',\n",
       " 'rpartition',\n",
       " 'rsplit',\n",
       " 'rstrip',\n",
       " 'split',\n",
       " 'splitlines',\n",
       " 'startswith',\n",
       " 'strip',\n",
       " 'swapcase',\n",
       " 'title',\n",
       " 'translate',\n",
       " 'upper',\n",
       " 'zfill']"
      ]
     },
     "execution_count": 10,
     "metadata": {},
     "output_type": "execute_result"
    }
   ],
   "source": [
    "dir(a)"
   ]
  },
  {
   "cell_type": "code",
   "execution_count": 17,
   "metadata": {},
   "outputs": [
    {
     "data": {
      "text/plain": [
       "'n'"
      ]
     },
     "execution_count": 17,
     "metadata": {},
     "output_type": "execute_result"
    }
   ],
   "source": [
    "a[3]"
   ]
  },
  {
   "cell_type": "code",
   "execution_count": 22,
   "metadata": {},
   "outputs": [],
   "source": [
    "c = \"Hello World!\"\n",
    "d = \"Ciao mondo!\"\n",
    "e = \"Konichiwa sekai!\""
   ]
  },
  {
   "cell_type": "code",
   "execution_count": 21,
   "metadata": {},
   "outputs": [
    {
     "data": {
      "text/plain": [
       "'!'"
      ]
     },
     "execution_count": 21,
     "metadata": {},
     "output_type": "execute_result"
    }
   ],
   "source": [
    "c[-1]"
   ]
  },
  {
   "cell_type": "code",
   "execution_count": 24,
   "metadata": {},
   "outputs": [],
   "source": [
    "#Questo è un commento in Python"
   ]
  },
  {
   "cell_type": "code",
   "execution_count": 28,
   "metadata": {},
   "outputs": [
    {
     "name": "stdout",
     "output_type": "stream",
     "text": [
      "Hello World! Ciao mondo! Konichiwa sekai!\n"
     ]
    }
   ],
   "source": [
    "#Concatenazione di stringhe\n",
    "f = c + \" \" + d + \" \" + e\n",
    "print(f)"
   ]
  },
  {
   "cell_type": "code",
   "execution_count": null,
   "metadata": {},
   "outputs": [
    {
     "data": {
      "text/plain": [
       "'Hello World! Ciao mondo! Konichiwa sekai! : la stringa è lunga 41 caratteri'"
      ]
     },
     "execution_count": 34,
     "metadata": {},
     "output_type": "execute_result"
    }
   ],
   "source": [
    "# Lunghezza di una stringa\n",
    "g = f + \" : la stringa è lunga \" + str(len(f)) + \" caratteri\"\n",
    "g"
   ]
  },
  {
   "cell_type": "code",
   "execution_count": 91,
   "metadata": {},
   "outputs": [
    {
     "data": {
      "text/plain": [
       "\"'Hello World!'\""
      ]
     },
     "execution_count": 91,
     "metadata": {},
     "output_type": "execute_result"
    }
   ],
   "source": [
    "# Accesso ai metodi di una classe\n",
    "c.upper() #Tutte le lettere maiuscole\n",
    "c.capitalize() #Prima lettera maiuscola\n",
    "c.lower() #Tutte le lettere minuscole\n",
    "c.lstrip() #Elimina gli spazi bianchi a sinistra\n",
    "c.rstrip() #Elimina gli spazi bianchi a destra\n",
    "c.strip() #Elimina gli spazi bianchi a destra e a sinistra\n",
    "c.split() #Separa la stringa in una lista di stringhe\n",
    "c.split(\" \") #Separa la stringa in una lista di stringhe usando uno spazio come separatore \n",
    "c.replace(\"Hello\", \"Ciao\") #Sostituisce una stringa con un'altra\n",
    "c.find(\"World\") #Trova la posizione di una stringa all'interno di un'altra\n",
    "c.count(\"l\") #Conta quante volte una stringa è presente in un'altra\n",
    "c.startswith(\"Hello\") #Controlla se una stringa inizia con un'altra\n",
    "c.endswith(\"World!\") #Controlla se una stringa finisce con un'altra \n",
    "c.isalnum() #Controlla se la stringa è alfanumerica\n",
    "c.isalpha() #Controlla se la stringa è alfabetica\n",
    "c.isdigit() #Controlla se la stringa è numerica\n",
    "c.islower() #Controlla se la stringa è tutta minuscola\n",
    "c.isupper() #Controlla se la stringa è tutta maiuscola\n",
    "c.isspace() #Controlla se la stringa è vuota\n",
    "c.istitle() #Controlla se la stringa è un titolo\n",
    "c.join([\"Hello \", \" World!\"]) #Unisce una lista di stringhe in una stringa\n",
    "c.center(20) #Centra la stringa in una stringa di 20 caratteri\n",
    "c.ljust(20) #Allinea la stringa a sinistra in una stringa di 20 caratteri\n",
    "c.rjust(20) #Allinea la stringa a destra in una stringa di 20 caratteri\n",
    "c.zfill(20) #Aggiunge degli zeri a sinistra fino a raggiungere 20 caratteri \n",
    "c.title() #Trasforma la stringa in un titolo    \n",
    "c.swapcase() #Scambia le lettere maiuscole con le lettere minuscole\n",
    "c.partition(\" \") #Separa la stringa in tre parti usando uno spazio come separatore\n",
    "c.rpartition(\" \") #Separa la stringa in tre parti usando uno spazio come separatore partendo da destra\n",
    "c.__len__() #Lunghezza della stringa\n",
    "c.__getitem__(0) #Primo carattere della stringa\n",
    "c.__getitem__(-1) #Ultimo carattere della stringa\n",
    "c.__add__(\"!\") #Aggiunge un carattere alla stringa\n",
    "c.__mul__(2) #Ripete la stringa due volte\n",
    "c.__contains__(\"World\") #Controlla se una stringa è contenuta in un'altra\n",
    "c.__eq__(\"Hello World!\") #Controlla se due stringhe sono uguali\n",
    "c.__ne__(\"Hello World!\") #Controlla se due stringhe sono diverse\n",
    "c.__lt__(\"Hello World!\") #Controlla se una stringa è minore di un'altra\n",
    "c.__le__(\"Hello World!\") #Controlla se una stringa è minore o uguale di un'altra\n",
    "c.__gt__(\"Hello World!\") #Controlla se una stringa è maggiore di un'altra\n",
    "c.__ge__(\"Hello World!\") #Controlla se una stringa è maggiore o uguale di un'altra\n",
    "c.__hash__() #Hash della stringa\n",
    "c.__str__() #Stringa\n",
    "c.__repr__() #Rappresentazione della stringa\n"
   ]
  },
  {
   "cell_type": "code",
   "execution_count": 38,
   "metadata": {},
   "outputs": [
    {
     "data": {
      "text/plain": [
       "['__add__',\n",
       " '__class__',\n",
       " '__contains__',\n",
       " '__delattr__',\n",
       " '__dir__',\n",
       " '__doc__',\n",
       " '__eq__',\n",
       " '__format__',\n",
       " '__ge__',\n",
       " '__getattribute__',\n",
       " '__getitem__',\n",
       " '__getnewargs__',\n",
       " '__getstate__',\n",
       " '__gt__',\n",
       " '__hash__',\n",
       " '__init__',\n",
       " '__init_subclass__',\n",
       " '__iter__',\n",
       " '__le__',\n",
       " '__len__',\n",
       " '__lt__',\n",
       " '__mod__',\n",
       " '__mul__',\n",
       " '__ne__',\n",
       " '__new__',\n",
       " '__reduce__',\n",
       " '__reduce_ex__',\n",
       " '__repr__',\n",
       " '__rmod__',\n",
       " '__rmul__',\n",
       " '__setattr__',\n",
       " '__sizeof__',\n",
       " '__str__',\n",
       " '__subclasshook__',\n",
       " 'capitalize',\n",
       " 'casefold',\n",
       " 'center',\n",
       " 'count',\n",
       " 'encode',\n",
       " 'endswith',\n",
       " 'expandtabs',\n",
       " 'find',\n",
       " 'format',\n",
       " 'format_map',\n",
       " 'index',\n",
       " 'isalnum',\n",
       " 'isalpha',\n",
       " 'isascii',\n",
       " 'isdecimal',\n",
       " 'isdigit',\n",
       " 'isidentifier',\n",
       " 'islower',\n",
       " 'isnumeric',\n",
       " 'isprintable',\n",
       " 'isspace',\n",
       " 'istitle',\n",
       " 'isupper',\n",
       " 'join',\n",
       " 'ljust',\n",
       " 'lower',\n",
       " 'lstrip',\n",
       " 'maketrans',\n",
       " 'partition',\n",
       " 'removeprefix',\n",
       " 'removesuffix',\n",
       " 'replace',\n",
       " 'rfind',\n",
       " 'rindex',\n",
       " 'rjust',\n",
       " 'rpartition',\n",
       " 'rsplit',\n",
       " 'rstrip',\n",
       " 'split',\n",
       " 'splitlines',\n",
       " 'startswith',\n",
       " 'strip',\n",
       " 'swapcase',\n",
       " 'title',\n",
       " 'translate',\n",
       " 'upper',\n",
       " 'zfill']"
      ]
     },
     "execution_count": 38,
     "metadata": {},
     "output_type": "execute_result"
    }
   ],
   "source": [
    "dir(c)"
   ]
  }
 ],
 "metadata": {
  "kernelspec": {
   "display_name": ".venv",
   "language": "python",
   "name": "python3"
  },
  "language_info": {
   "codemirror_mode": {
    "name": "ipython",
    "version": 3
   },
   "file_extension": ".py",
   "mimetype": "text/x-python",
   "name": "python",
   "nbconvert_exporter": "python",
   "pygments_lexer": "ipython3",
   "version": "3.12.8"
  }
 },
 "nbformat": 4,
 "nbformat_minor": 2
}
