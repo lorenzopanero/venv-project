{
 "cells": [
  {
   "cell_type": "code",
   "execution_count": null,
   "metadata": {},
   "outputs": [],
   "source": [
    "#Concatenazione di stringhe\n",
    "f = \"c\" + \" \" + \"d\" + \" \" + \"e\"\n",
    "print(f)"
   ]
  },
  {
   "cell_type": "code",
   "execution_count": null,
   "metadata": {},
   "outputs": [],
   "source": [
    "# Accesso ai metodi di una classe\n",
    "c.upper() #Tutte le lettere maiuscole\n",
    "c.capitalize() #Prima lettera maiuscola\n",
    "c.lower() #Tutte le lettere minuscole\n",
    "c.lstrip() #Elimina gli spazi bianchi a sinistra\n",
    "c.rstrip() #Elimina gli spazi bianchi a destra\n",
    "c.strip() #Elimina gli spazi bianchi a destra e a sinistra\n",
    "c.split() #Separa la stringa in una lista di stringhe\n",
    "c.split(\" \") #Separa la stringa in una lista di stringhe usando uno spazio come separatore \n",
    "c.replace(\"Hello\", \"Ciao\") #Sostituisce una stringa con un'altra\n",
    "c.find(\"World\") #Trova la posizione di una stringa all'interno di un'altra\n",
    "c.count(\"l\") #Conta quante volte una stringa è presente in un'altra\n",
    "c.startswith(\"Hello\") #Controlla se una stringa inizia con un'altra\n",
    "c.endswith(\"World!\") #Controlla se una stringa finisce con un'altra \n",
    "c.isalnum() #Controlla se la stringa è alfanumerica\n",
    "c.isalpha() #Controlla se la stringa è alfabetica\n",
    "c.isdigit() #Controlla se la stringa è numerica\n",
    "c.islower() #Controlla se la stringa è tutta minuscola\n",
    "c.isupper() #Controlla se la stringa è tutta maiuscola\n",
    "c.isspace() #Controlla se la stringa è vuota\n",
    "c.istitle() #Controlla se la stringa è un titolo\n",
    "c.join([\"Hello \", \" World!\"]) #Unisce una lista di stringhe in una stringa\n",
    "c.center(20) #Centra la stringa in una stringa di 20 caratteri\n",
    "c.ljust(20) #Allinea la stringa a sinistra in una stringa di 20 caratteri\n",
    "c.rjust(20) #Allinea la stringa a destra in una stringa di 20 caratteri\n",
    "c.zfill(20) #Aggiunge degli zeri a sinistra fino a raggiungere 20 caratteri \n",
    "c.title() #Trasforma la stringa in un titolo    \n",
    "c.swapcase() #Scambia le lettere maiuscole con le lettere minuscole\n",
    "c.partition(\" \") #Separa la stringa in tre parti usando uno spazio come separatore\n",
    "c.rpartition(\" \") #Separa la stringa in tre parti usando uno spazio come separatore partendo da destra\n",
    "c.__len__() #Lunghezza della stringa\n",
    "c.__getitem__(0) #Primo carattere della stringa\n",
    "c.__getitem__(-1) #Ultimo carattere della stringa\n",
    "c.__add__(\"!\") #Aggiunge un carattere alla stringa\n",
    "c.__mul__(2) #Ripete la stringa due volte\n",
    "c.__contains__(\"World\") #Controlla se una stringa è contenuta in un'altra\n",
    "c.__eq__(\"Hello World!\") #Controlla se due stringhe sono uguali\n",
    "c.__ne__(\"Hello World!\") #Controlla se due stringhe sono diverse\n",
    "c.__lt__(\"Hello World!\") #Controlla se una stringa è minore di un'altra\n",
    "c.__le__(\"Hello World!\") #Controlla se una stringa è minore o uguale di un'altra\n",
    "c.__gt__(\"Hello World!\") #Controlla se una stringa è maggiore di un'altra\n",
    "c.__ge__(\"Hello World!\") #Controlla se una stringa è maggiore o uguale di un'altra\n",
    "c.__hash__() #Hash della stringa\n",
    "c.__str__() #Stringa\n",
    "c.__repr__() #Rappresentazione della stringa\n"
   ]
  },
  {
   "cell_type": "code",
   "execution_count": null,
   "metadata": {},
   "outputs": [],
   "source": [
    "# F-string\n",
    "volume = 50*25*2 \n",
    "print(f\"The volume of the pool is {volume} m3, or {volume*1000} liters\")"
   ]
  },
  {
   "cell_type": "code",
   "execution_count": null,
   "metadata": {},
   "outputs": [],
   "source": [
    "# Funzioni matematiche\n",
    "import math\n",
    "from math import *\n",
    "sqrt(9)\n",
    "cos(0)\n",
    "sin (0)\n",
    "tan(0)\n",
    "log(10)\n",
    "log10(10)\n",
    "exp(1)\n",
    "pi\n",
    "e\n",
    "degrees(1)\n",
    "inf"
   ]
  },
  {
   "cell_type": "code",
   "execution_count": null,
   "metadata": {},
   "outputs": [],
   "source": [
    "#lambda operator\n",
    "rate = 0.86\n",
    "conversion = lambda euros: euros * rate\n",
    "conversion(100)"
   ]
  },
  {
   "cell_type": "code",
   "execution_count": null,
   "metadata": {},
   "outputs": [],
   "source": [
    "# Resto di una divisione \n",
    "mele = 5 \n",
    "studenti = 2 \n",
    "resto = mele % studenti\n",
    "print(resto)"
   ]
  },
  {
   "cell_type": "code",
   "execution_count": null,
   "metadata": {},
   "outputs": [],
   "source": [
    "# Rounding \n",
    "amount_in_usd = 100.50895\n",
    "display_amount = round(amount_in_usd, 2)\n",
    "print(f\"The orginal amount is {amount_in_usd}, the rounded amount is {display_amount}\")"
   ]
  },
  {
   "cell_type": "code",
   "execution_count": null,
   "metadata": {},
   "outputs": [],
   "source": [
    "# If, Elif, Else\n",
    "age = int(input(\"Quanti anni hai? \"))\n",
    "if age < 19 and age > 13:\n",
    "    print(\"Sei un teenager!\")\n",
    "else:\n",
    "    print(\"Sei un adulto!\")"
   ]
  },
  {
   "cell_type": "code",
   "execution_count": null,
   "metadata": {},
   "outputs": [],
   "source": [
    "# Funzione\n",
    "def func(parameter):\n",
    "    if parameter == 0:\n",
    "        return #None\n",
    "    else: \n",
    "        return parameter * 2 \n",
    "\n",
    "result = func(0)\n",
    "\n",
    "if bool(result):\n",
    "    print(result)"
   ]
  },
  {
   "cell_type": "code",
   "execution_count": null,
   "metadata": {},
   "outputs": [],
   "source": [
    "# While loop\n",
    "a = 1\n",
    "while a <= 10:\n",
    "    print(a)\n",
    "    a += 1\n",
    "else: \n",
    "    print(\"a is now greater than 10, a =\", a)"
   ]
  },
  {
   "cell_type": "code",
   "execution_count": null,
   "metadata": {},
   "outputs": [],
   "source": [
    "# Random\n",
    "import random\n",
    "numero_da_indovinare = random.randint(1,10)"
   ]
  },
  {
   "cell_type": "code",
   "execution_count": null,
   "metadata": {},
   "outputs": [],
   "source": [
    "# For loop\n",
    "for i in range(1, 11):\n",
    "    print(i)\n",
    "else:\n",
    "    print(\"The loop is over.\")"
   ]
  },
  {
   "cell_type": "code",
   "execution_count": null,
   "metadata": {},
   "outputs": [],
   "source": [
    "# Lista, Tuple, Set, Dizionario\n",
    "list1 = ['cat', 'dog', 'fish'] #Versatile\n",
    "tuple1 = ('lion', 'elephant', 'bird') #Immutabile e occupa meno memoria\n",
    "set1 = {'tiger', 'bear', 'deer'} #Insieme di elementi unici\n",
    "dict1 = {'lion': 'land',\n",
    "         'elephant': 'land',\n",
    "         'fish': 'water'}"
   ]
  },
  {
   "cell_type": "code",
   "execution_count": null,
   "metadata": {},
   "outputs": [],
   "source": [
    "# Creare un dizionario\n",
    "clienti = {}\n",
    "clienti[\"1\"] = {\"nome\": \"Beppe\", \"cognome\": \"Rossi\", \"email\": \"beppe@rossi.it\"}\n",
    "clienti[\"2\"] = {\"nome\": \"Giovanni\", \"cognome\": \"Verdi\", \"email\": \"giovanni@verdi.it\"}\n",
    "clienti "
   ]
  },
  {
   "cell_type": "code",
   "execution_count": null,
   "metadata": {},
   "outputs": [],
   "source": [
    "# Nested loop\n",
    "def numeri_primi(n):\n",
    "    for i in range(2, n):\n",
    "        for j in range(2, i):\n",
    "            if i % j == 0:\n",
    "                break\n",
    "        else:\n",
    "            print(i)\n",
    "\n",
    "numeri_primi(100)"
   ]
  },
  {
   "cell_type": "code",
   "execution_count": null,
   "metadata": {},
   "outputs": [],
   "source": [
    "# Zip, Map, Enumerate, Reversed \n",
    "names = [\"Anna\", \"Beppe\", \"Carlo\", \"Beppino\", \"Carlino\"]\n",
    "grades = [7.6, 8.6, 9.4, 10] \n",
    "last_names = [\"Rossi\", \"Verdi\", \"Bianchi\", \"Neri\", \"Gialli\"]\n",
    "\n",
    "for n, g, l in zip(names, map(int, grades), last_names):\n",
    "    print(n, g, l)\n",
    "\n",
    "for p in map(int, grades):\n",
    "    print(p)\n",
    "\n",
    "for i, n in enumerate(names):\n",
    "    print(i, n)\n",
    "\n",
    "for n in reversed(names):\n",
    "    print(n)"
   ]
  },
  {
   "cell_type": "code",
   "execution_count": 10,
   "metadata": {},
   "outputs": [
    {
     "name": "stdout",
     "output_type": "stream",
     "text": [
      "True\n",
      "False\n"
     ]
    }
   ],
   "source": [
    "# Any, All\n",
    "print(any([True, False, True]))\n",
    "print(all([True, False, True]))"
   ]
  }
 ],
 "metadata": {
  "kernelspec": {
   "display_name": ".venv",
   "language": "python",
   "name": "python3"
  },
  "language_info": {
   "codemirror_mode": {
    "name": "ipython",
    "version": 3
   },
   "file_extension": ".py",
   "mimetype": "text/x-python",
   "name": "python",
   "nbconvert_exporter": "python",
   "pygments_lexer": "ipython3",
   "version": "3.12.8"
  }
 },
 "nbformat": 4,
 "nbformat_minor": 2
}
