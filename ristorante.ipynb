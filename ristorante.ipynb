{
 "cells": [
  {
   "cell_type": "code",
   "execution_count": null,
   "metadata": {},
   "outputs": [],
   "source": [
    "# Creare piccolo db con tavoli e numero posti\n",
    "# Permettere di prenotare e vedere se sono disponibili tavoli e posti "
   ]
  },
  {
   "cell_type": "code",
   "execution_count": 2,
   "metadata": {},
   "outputs": [],
   "source": [
    "from datetime import datetime, timedelta"
   ]
  },
  {
   "cell_type": "code",
   "execution_count": 1,
   "metadata": {},
   "outputs": [],
   "source": [
    "ristorante = {\"Tavolo1\" : \n",
    "                {\"Posti\" : 6,\n",
    "                 \"Orario_Prenotazione\" : None},\n",
    "            \"Tavolo2\" : \n",
    "                {\"Posti\" : 2,\n",
    "                 \"Orario_Prenotazione\" : None},\n",
    "            \"Tavolo3\" : \n",
    "                {\"Posti\" : 6,\n",
    "                 \"Orario_Prenotazione\" : None},\n",
    "            \"Tavolo4\" : \n",
    "                {\"Posti\" : 4,\n",
    "                 \"Orario_Prenotazione\" : None},\n",
    "            \"Tavolo5\" : \n",
    "                {\"Posti\" : 6,\n",
    "                 \"Orario_Prenotazione\" : None},\n",
    "            \"Tavolo6\" : \n",
    "                {\"Posti\" : 8,\n",
    "                 \"Orario_Prenotazione\" : None},\n",
    "            \"Tavolo7\" : \n",
    "                {\"Posti\" : 6,\n",
    "                 \"Orario_Prenotazione\" : None},\n",
    "            \"Tavolo8\" : \n",
    "                {\"Posti\" : 12,\n",
    "                 \"Orario_Prenotazione\" : None},\n",
    "                 }"
   ]
  },
  {
   "cell_type": "code",
   "execution_count": 6,
   "metadata": {},
   "outputs": [],
   "source": [
    "# Tavoli compatibili con la richiesta\n",
    "def get_tavoli_disponibili(posti_richiesti):\n",
    "    tavoli_disponibili = []\n",
    "    for tavolo, value in ristorante.items():\n",
    "        if posti_richiesti <= value[\"Posti\"] < posti_richiesti + 2:\n",
    "            tavoli_disponibili.insert(0, tavolo)\n",
    "        elif posti_richiesti + 2 < value[\"Posti\"] < posti_richiesti + 4:\n",
    "            tavoli_disponibili.append(tavolo)\n",
    "    return tavoli_disponibili"
   ]
  },
  {
   "cell_type": "code",
   "execution_count": 7,
   "metadata": {},
   "outputs": [],
   "source": [
    "# Check orario\n",
    "def get_time_availability(tavolo, orario_richiesto):\n",
    "    orari_prenotati = ristorante[tavolo][\"Orario_Prenotazione\"]\n",
    "\n",
    "    # Nessuna prenotazione\n",
    "    if orari_prenotati == None:\n",
    "        return tavolo\n",
    "    \n",
    "    # Prima o dopo gli estremi\n",
    "    elif orario_richiesto <= orari_prenotati[0] - timedelta(hours=2):\n",
    "        return tavolo\n",
    "    elif orario_richiesto >= orari_prenotati[-1] + timedelta(hours=2):\n",
    "        return tavolo\n",
    "    \n",
    "    # Nel mezzo (più di 2 orari prenotati)\n",
    "    if len(orari_prenotati) >= 2:\n",
    "        for i, orario_prenotato in enumerate(orari_prenotati):\n",
    "            if i != len(orari_prenotati): #Escludiamo l'ultima prenotazione perchè non ha un orario successivo\n",
    "                orario_precedente = orario_prenotato\n",
    "                orario_successivo = orari_prenotati[i+1]\n",
    "                if orario_precedente - timedelta(hours=2) <= orario_richiesto <= orario_successivo + timedelta(hours=2):\n",
    "                    return tavolo\n",
    "    print(f\"Il {tavolo} non è disponibile\")\n",
    "    return False"
   ]
  },
  {
   "cell_type": "code",
   "execution_count": 8,
   "metadata": {},
   "outputs": [],
   "source": [
    "def confirm_book_table(tavolo, orario):\n",
    "    if ristorante[tavolo][\"Orario_Prenotazione\"]:\n",
    "        ristorante[tavolo][\"Orario_Prenotazione\"] = list(ristorante[tavolo][\"Orario_Prenotazione\"]).append(orario).sort()\n",
    "    else:\n",
    "        ristorante[tavolo][\"Orario_Prenotazione\"] = [orario]"
   ]
  },
  {
   "cell_type": "code",
   "execution_count": 9,
   "metadata": {},
   "outputs": [],
   "source": [
    "# Prenota tavolo\n",
    "def book_table(orario, coperti):\n",
    "    orario = datetime.strptime(orario, \"%H:%M\").time()\n",
    "    tavoli_compatibili = get_tavoli_disponibili(coperti)\n",
    "    if not tavoli_compatibili:\n",
    "        print(\"Noi non spostiamo tavoli\")\n",
    "        return\n",
    "    for tavolo in tavoli_compatibili:\n",
    "        tavolo_disponibile = get_time_availability(tavolo, orario)\n",
    "        if tavolo_disponibile:\n",
    "            print(\"Tavolo trovato\")\n",
    "            prenota = input(\"Conferma prenotazione? Y/N\").lower() == \"y\"\n",
    "            if prenota:\n",
    "                confirm_book_table(tavolo, orario)\n",
    "                return\n",
    "    print(\"Non sei il benvenuto\")\n"
   ]
  },
  {
   "cell_type": "code",
   "execution_count": null,
   "metadata": {},
   "outputs": [],
   "source": [
    "# Check prenotazione\n",
    "posti_richiesti = input(\"Per quanti vuoi prenotare?\")"
   ]
  }
 ],
 "metadata": {
  "kernelspec": {
   "display_name": ".venv",
   "language": "python",
   "name": "python3"
  },
  "language_info": {
   "codemirror_mode": {
    "name": "ipython",
    "version": 3
   },
   "file_extension": ".py",
   "mimetype": "text/x-python",
   "name": "python",
   "nbconvert_exporter": "python",
   "pygments_lexer": "ipython3",
   "version": "3.12.8"
  }
 },
 "nbformat": 4,
 "nbformat_minor": 2
}
