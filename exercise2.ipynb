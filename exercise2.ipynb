{
 "cells": [
  {
   "cell_type": "markdown",
   "metadata": {},
   "source": [
    "# Esercizio: Sistema di Valutazione Abbonamenti e Codice Sconto\n",
    "\n",
    "## Sistema di Valutazione Abbonamenti\n",
    "Un'azienda di servizi online vuole implementare un sistema che valuti se un cliente può accedere a un'offerta speciale. Le condizioni per accedere all'offerta sono le seguenti:\n",
    "\n",
    "Il cliente deve essere un utente attivo (campo booleano utente_attivo).\n",
    "Deve aver effettuato almeno 3 acquisti (numero_acquisti è un intero).\n",
    "Deve aver speso in totale almeno 100.50 euro (spesa_totale è un numero decimale).\n",
    "Non deve avere account sospesi (sospeso è un booleano).\n",
    "\n",
    "## Regole per il codice sconto\n",
    "L'utente riceve uno sconto calcolato come 30 - età.\n",
    "Se il valore risultante è negativo, lo sconto è considerato pari a 0.\n",
    "Lo sconto è valido solo per utenti attivi e non sospesi.\n",
    "\n",
    "## Obiettivo\n",
    "Scrivi un programma che:\n",
    "\n",
    "Definisca la funzione valuta_accesso:\n",
    "- Verifica se il cliente può accedere all'offerta speciale.\n",
    "\n",
    "Definisca la funzione input_dati:\n",
    "- Acquisisce i dati richiesti dall'utente. (hint: input)\n",
    "\n",
    "Definisca una nuova funzione calcola_sconto che:\n",
    "- Accetti come parametri:\n",
    "    - utente_attivo (booleano)\n",
    "    - sospeso (booleano)\n",
    "    - età (intero)\n",
    "- Calcoli lo sconto come 30 - età se l'utente è attivo e non sospeso.\n",
    "- Restituisca 0 se l'utente non soddisfa i requisiti o se lo sconto calcolato è negativo.\n",
    "\n",
    "Mostri all'utente:\n",
    "- Se può accedere all'offerta speciale.\n",
    "- L'ammontare dello sconto che gli spetta (se applicabile)."
   ]
  },
  {
   "cell_type": "code",
   "execution_count": null,
   "metadata": {},
   "outputs": [],
   "source": [
    "utente_attivo = True\n",
    "numero_acquisti = 3 \n",
    "spesa_totale = 120\n",
    "sospeso = False\n",
    "\n",
    "eta = int(input(\"Quanti anni hai? \"))\n",
    "coupon = 10\n",
    "if (30 - eta) > 0 and utente_attivo == True and numero_acquisti >= 3 and spesa_totale >= 100:\n",
    "\tcoupon = 30 - eta\n",
    "\tprint(f\"Complimenti! Hai diritto ad uno sconto di {coupon} euro!\")\n",
    "else:\n",
    "\tcoupon = 0\n",
    "\tprint(\"Ci dispiace, non hai diritto ad uno sconto.\")\n",
    "\n",
    "\n",
    "\n"
   ]
  },
  {
   "cell_type": "code",
   "execution_count": null,
   "metadata": {},
   "outputs": [],
   "source": [
    "def input_dati():\n",
    "    is_active = bool(input(\"È un utente attivo?:[True or False] \"))\n",
    "    numero_acquisti = int(input(\"Quanti acquisti ha effettuato? \"))\n",
    "    spesa_totale = float(input(\"Quanto ha speso in totale? \"))\n",
    "    eta = int(input(\"Quanti anni ha? \"))\n",
    "    is_suspended = bool(input(\"È sospeso?:[True or False] \"))\n",
    "    if is_active.lower() == \"True\":\n",
    "        is_active = True\n",
    "    return is_active, numero_acquisti, spesa_totale, eta, is_suspended\n",
    "\n",
    "def valuta_accesso(is_active, numero_acquisti, spesa_totale, is_suspended):\n",
    "    cond_acquisti = numero_acquisti >= 3\n",
    "    cond_spesa = spesa_totale >= 100.50\n",
    "    accesso_consentito = is_active and cond_acquisti and cond_spesa and is_suspended\n",
    "    print(\"is eligible:\", accesso_consentito)\n",
    "    return accesso_consentito\n",
    "\n",
    "def calcola_sconto(eta, accesso_consentito):\n",
    "    if accesso_consentito == True:\n",
    "        if eta < 30:\n",
    "            sconto = 30 - eta\n",
    "        else:\n",
    "            sconto = 0\n",
    "    else:\n",
    "        sconto = 0\n",
    "    return sconto * accesso_consentito\n",
    "\n",
    "is_active, numero_acquisti, spesa_totale, eta, is_suspended = input_dati()\n",
    "accesso_consentito = valuta_accesso(is_active, numero_acquisti, spesa_totale, is_suspended)\n",
    "sconto = calcola_sconto(eta, accesso_consentito)\n",
    "print(f\"Lo sconto è di {sconto} euro\")\n",
    "\n",
    "\n",
    "\n"
   ]
  },
  {
   "cell_type": "code",
   "execution_count": null,
   "metadata": {},
   "outputs": [
    {
     "name": "stdout",
     "output_type": "stream",
     "text": [
      "Invalid grade!\n"
     ]
    }
   ],
   "source": [
    "# Conditions 1 \n",
    "grade = int(input(\"Inserisci il tuo voto: \"))\n",
    "if grade < 50:\n",
    "    print(\"Fail!\")\n",
    "elif grade >= 50 and grade < 59:\n",
    "    print(\"Pass!\")\n",
    "elif grade >= 60 and grade < 75:\n",
    "    print(\"Good!\")\n",
    "elif grade >= 75 and grade < 90:\n",
    "    print(\"Very Good!\")\n",
    "elif grade >= 90 and grade <= 100:\n",
    "    print(\"Excellent!\")\n",
    "elif grade > 100:\n",
    "    print(\"Invalid grade!\")\n"
   ]
  },
  {
   "cell_type": "code",
   "execution_count": null,
   "metadata": {},
   "outputs": [],
   "source": [
    "# Conditions 2\n",
    "number1 = 66\n",
    "number2 = 66\n",
    "if number1 > number2:\n",
    "    print(\"Dataset Number1 is greater than dataset number2\")\n",
    "elif number2 > number1:\n",
    "    print(\"Dataset Number2 is greater than dataset number1\")\n",
    "elif number1 == number2:\n",
    "    print(\"Dataset Number1 is equal to dataset number2\")"
   ]
  },
  {
   "cell_type": "code",
   "execution_count": null,
   "metadata": {},
   "outputs": [],
   "source": [
    "# Conditions 3\n",
    "import random\n",
    "score_a = random.randint(300, 400)\n",
    "score_b = random.randint(300, 400)\n",
    "print (score_a, score_b)\n",
    "if score_a > score_b:\n",
    "    print(\"In the simulation, Player A scored more than Player B.\")\n",
    "elif score_b > score_a:\n",
    "    print(\"In the simulation, Player B scored more than Player A.\")\n",
    "elif score_a == score_b:\n",
    "    print(\"In the simulation, Player A and Player B have the same score.\")\n"
   ]
  },
  {
   "cell_type": "code",
   "execution_count": null,
   "metadata": {},
   "outputs": [],
   "source": [
    "# Conditions 4\n",
    "asset = int(input(\"Inserisci il valore degli asset: \"))\n",
    "if asset < 0:\n",
    "    print(\"Il valore degli asset non può essere negativo.\")\n",
    "debts = int(input(\"Inserisci il valore dei debiti: \"))\n",
    "if debts > 0:\n",
    "    print(\"Il valore dei debiti non può essere positivo.\")\n",
    "if abs(asset) > abs(debts):\n",
    "    print(\"The value of your assets is greater than the absolute value of your debts.\")\n",
    "elif abs(debts) > abs(asset):\n",
    "    print(\"The absolute value of your debts is greater than the value of your assets.\")\n",
    "elif abs(asset) == abs(debts):\n",
    "    print(\"The value of your assets is equal to the absolute value of your debts.\")"
   ]
  },
  {
   "cell_type": "code",
   "execution_count": null,
   "metadata": {},
   "outputs": [],
   "source": [
    "# Conditions 5.1\n",
    "age = int(input(\"Quanti anni hai? \"))\n",
    "if age < 19 and age > 13:\n",
    "    print(\"Sei un teenager!\")\n",
    "else:\n",
    "    print(\"Sei un adulto!\")"
   ]
  },
  {
   "cell_type": "code",
   "execution_count": null,
   "metadata": {},
   "outputs": [],
   "source": [
    "# Conditions 5.3\n",
    "password = input(\"Inserisci la tua password: \")\n",
    "if len(password) < 8:\n",
    "    print(\"La password deve contenere almeno 8 caratteri.\")"
   ]
  },
  {
   "cell_type": "code",
   "execution_count": null,
   "metadata": {},
   "outputs": [],
   "source": [
    "# Conditions 5.4\n",
    "transaction_amount = float(input(\"Inserisci l'importo della transazione: \"))\n",
    "if transaction_amount < 0:\n",
    "    print(\"This is a withdrawal.\")\n",
    "elif transaction_amount > 0:\n",
    "    print(\"This is a deposit.\")\n",
    "elif transaction_amount == 0:\n",
    "    print(\"No transaction\")"
   ]
  },
  {
   "cell_type": "code",
   "execution_count": null,
   "metadata": {},
   "outputs": [],
   "source": [
    "# Conditions 6.1\n",
    "# Imagine you're developing an app for mountain climbers. The users will input the heights of two mountains, and your program will indicate which one is higher. If both are equal print equal.\n",
    "mountain1 = float(input(\"Inserisci l'altezza della prima montagna: \"))\n",
    "mountain2 = float(input(\"Inserisci l'altezza della seconda montagna: \"))\n",
    "if mountain1 > mountain2:\n",
    "    print(\"La prima montagna è più alta della seconda.\")\n",
    "elif mountain2 > mountain1:\n",
    "    print(\"La seconda montagna è più alta della prima.\")\n",
    "\n"
   ]
  },
  {
   "cell_type": "code",
   "execution_count": 22,
   "metadata": {},
   "outputs": [],
   "source": [
    "# Conditions 6.2\n",
    "total_bill_amount = float(input(\"Inserisci l'importo totale dello scontrino: \"))\n",
    "if total_bill_amount % 2 == 0:\n",
    "    print(\"Lo scontrino è pari.\")\n",
    "elif total_bill_amount % 2 != 0:\n",
    "    print(\"Lo scontrino è dispari.\")"
   ]
  },
  {
   "cell_type": "code",
   "execution_count": null,
   "metadata": {},
   "outputs": [],
   "source": [
    "# Conditions 6.3\n",
    "# You are a calendar enthusiast, and your mission is to determine whether a given year is a leap year or not. Write a python program that shows if a year is leap or not.\n",
    "year = int(input(\"Inserisci l'anno: \"))\n",
    "if year % 4 == 0:\n",
    "    print(\"L'anno è bisestile.\")\n",
    "else:\n",
    "    print(\"L'anno non è bisestile.\")"
   ]
  },
  {
   "cell_type": "code",
   "execution_count": null,
   "metadata": {},
   "outputs": [],
   "source": [
    "# Conditions 7.1\n",
    "letter = input(\"Inserisci una lettera: \")\n",
    "if letter == \"a\" or letter == \"e\" or letter == \"i\" or letter == \"o\" or letter == \"u\":\n",
    "    print(\"La lettera è una vocale.\")\n",
    "else:\n",
    "    print(\"La lettera è una consonante.\")\n",
    "    "
   ]
  },
  {
   "cell_type": "code",
   "execution_count": null,
   "metadata": {},
   "outputs": [],
   "source": [
    "# Conditions 7.2\n",
    "temp_1 = float(input(\"Inserisci la temperatura di oggi: [°C]\"))\n",
    "temp_2 = float(input(\"Inserisci la temperatura di ieri: [°C]\"))\n",
    "if temp_1 > temp_2:\n",
    "    print(f\"La temperatura di oggi è più alta di quella di ieri, di {temp_1-temp_2} °C.\")\n",
    "elif temp_2 > temp_1:\n",
    "    print(f\"La temperatura di ieri è più alta di quella di oggi, di {temp_2-temp_1} °C.\")\n",
    "elif temp_1 == temp_2:\n",
    "    print(f\"Le temperature di oggi e di ieri sono uguali, ovvero {temp_1} °C.\")\n",
    "\n"
   ]
  },
  {
   "cell_type": "code",
   "execution_count": null,
   "metadata": {},
   "outputs": [],
   "source": [
    "# Conditions 7.3\n",
    "student_number = int(input(\"Inserisci il numero di studenti: \"))\n",
    "if student_number % 5 == 0 and student_number % 11 == 0:\n",
    "    print(\"Il numero di studenti è divisibile per 5 e per 11.\")\n",
    "else:\n",
    "    print(\"Il numero di studenti non è divisibile per 5 e per 11.\")"
   ]
  },
  {
   "cell_type": "code",
   "execution_count": null,
   "metadata": {},
   "outputs": [],
   "source": [
    "from IPython.display import clear_output\n",
    "\n",
    "# scrivere una funzione che converta un numero (compreso tra 0 e 10) in:\n",
    "# insufficiente se tra 0 e 5\n",
    "# buono se tra 5 e 7\n",
    "# ottimo se maggiore di 7\n",
    "\n",
    "def valutazione():\n",
    "    voto = int(input(\"Inserisci il tuo voto: \"))\n",
    "    if voto >= 0 and voto <= 5:\n",
    "        print(\"Insufficiente\")\n",
    "    elif voto > 5 and voto <= 7:\n",
    "        print(\"Buono\")\n",
    "    elif voto > 7 and voto <= 10:\n",
    "        print(\"Ottimo\")\n",
    "    else:\n",
    "        print(\"Il voto deve essere compreso tra 0 e 10\")\n",
    "        clear_output(wait=True)\n",
    "        valutazione()\n",
    "    \n",
    "valutazione()"
   ]
  },
  {
   "cell_type": "code",
   "execution_count": 39,
   "metadata": {},
   "outputs": [],
   "source": [
    "def func(parameter):\n",
    "    if parameter == 0:\n",
    "        return #None\n",
    "    else: \n",
    "        return parameter * 2 \n",
    "\n",
    "result = func(0)\n",
    "\n",
    "if bool(result):\n",
    "    print(result)"
   ]
  },
  {
   "cell_type": "code",
   "execution_count": null,
   "metadata": {},
   "outputs": [],
   "source": [
    "# While loop\n",
    "a = 1\n",
    "while a <= 10:\n",
    "    print(a)\n",
    "    a += 1\n",
    "else: \n",
    "    print(\"a is now greater than 10, a =\", a)\n",
    "    "
   ]
  },
  {
   "cell_type": "code",
   "execution_count": null,
   "metadata": {},
   "outputs": [],
   "source": [
    "i = 1\n",
    "while i <= 15:\n",
    "    print('*' * i)\n",
    "    i += 1"
   ]
  },
  {
   "cell_type": "code",
   "execution_count": null,
   "metadata": {},
   "outputs": [],
   "source": [
    "# Programma per indovinare un numero tra 0 e 10\n",
    "import random\n",
    "numero_da_indovinare = random.randint(1,10)\n",
    "\n",
    "a = 0\n",
    "while a != numero_da_indovinare:\n",
    "    print(a)\n",
    "    a += 1\n",
    "    if a == numero_da_indovinare:\n",
    "        print(\"Il numero da indovinare era: \", numero_da_indovinare)\n",
    "\n"
   ]
  },
  {
   "cell_type": "code",
   "execution_count": null,
   "metadata": {},
   "outputs": [],
   "source": [
    "# Programma per indovinare un numero tra 0 e 10 con 7 tentativi\n",
    "numero_da_indovinare = random.randint(1,10)\n",
    "tentativi = 7\n",
    "\n",
    "while tentativi > 0:\n",
    "    numero = int(input(\"Indovina il numero (tra 1 e 10): \"))\n",
    "    if numero == numero_da_indovinare:\n",
    "        print(\"Complimenti! Hai indovinato il numero.\")\n",
    "        break\n",
    "    else:\n",
    "        print(\"Numero sbagliato. Riprova.\")\n",
    "        tentativi -= 1\n",
    "\n",
    "if tentativi == 0:\n",
    "    print(f\"Mi dispiace, hai esaurito i tentativi. Il numero da indovinare era: {numero_da_indovinare}\")\n",
    "\n"
   ]
  },
  {
   "cell_type": "code",
   "execution_count": null,
   "metadata": {},
   "outputs": [],
   "source": [
    "# Programma per indovinare numero tra 0 e 100, con 7 tentativi, e ogni volta dice se è maggiore o minore\n",
    "numero_random = random.randint(1,100)\n",
    "tentativi = 7\n",
    "\n",
    "while tentativi > 0:\n",
    "    numero = int(input(\"Inserire un numero (0 - 100): \"))\n",
    "    if numero == numero_random:\n",
    "        print(f\"Hai indovinato il numero {numero_random} al {8-tentativi}° tentativo!\")\n",
    "        break\n",
    "    else:\n",
    "        if numero < numero_random:\n",
    "            print(\"Il numero inserito è minore del numero da indovinare\")\n",
    "        else:\n",
    "            print(\"Il numero inserito è maggiore del numero da indovinare\")\n",
    "        tentativi -= 1\n",
    "\n",
    "if tentativi == 0:\n",
    "    print(\"Tentativi finiti! Il numero era: \", numero_da_indovinare)"
   ]
  },
  {
   "cell_type": "code",
   "execution_count": null,
   "metadata": {},
   "outputs": [],
   "source": [
    "number = 23\n",
    "counter = 2\n",
    "\n",
    "while counter < number:\n",
    "    print(counter, \"The rest is\", number % counter)\n",
    "    counter += 1\n",
    "    if number % counter == 0:\n",
    "        print(\"The number is not prime.\")\n",
    "        break"
   ]
  },
  {
   "cell_type": "code",
   "execution_count": null,
   "metadata": {},
   "outputs": [],
   "source": [
    "# For loop\n",
    "for i in range(1, 11):\n",
    "    print(i)\n",
    "else:\n",
    "    print(\"The loop is over.\")"
   ]
  },
  {
   "cell_type": "code",
   "execution_count": null,
   "metadata": {},
   "outputs": [],
   "source": [
    "for letter in \"Ciao\":\n",
    "    print(letter)"
   ]
  },
  {
   "cell_type": "code",
   "execution_count": null,
   "metadata": {},
   "outputs": [],
   "source": [
    "for i in range(6):\n",
    "    if i % 2 == 0:\n",
    "        continue\n",
    "    print('*' * i)"
   ]
  },
  {
   "cell_type": "code",
   "execution_count": null,
   "metadata": {},
   "outputs": [],
   "source": [
    "for string in (\"Study\", \"work\", \"play\", \"coffee break\", \"party\"):\n",
    "    print(string)\n",
    "    if string == \"coffee break\":\n",
    "        break"
   ]
  },
  {
   "cell_type": "code",
   "execution_count": null,
   "metadata": {},
   "outputs": [],
   "source": [
    "list1 = ['cat', 'dog', 'fish']\n",
    "tuple1 = ('lion', 'elephant', 'bird')\n",
    "set1 = {'tiger', 'bear', 'deer'}\n",
    "dict1 = {'lion': 'land',\n",
    "         'elephant': 'land',\n",
    "         'fish': 'water'}\n",
    "\n",
    "for animal in list1:\n",
    "    print(animal)\n",
    "\n",
    "for animal in tuple1:\n",
    "    print(animal)\n",
    "\n",
    "for animal in set1:\n",
    "    print(animal)\n",
    "\n",
    "for animal, habitat in dict1.items():\n",
    "    if habitat == 'land':\n",
    "        print(f\"{animal} lives in {habitat}\")"
   ]
  },
  {
   "cell_type": "code",
   "execution_count": null,
   "metadata": {},
   "outputs": [],
   "source": [
    "# Funzione per verificare che una stringa sia palindroma\n",
    "def is_palindrome(string):\n",
    "    string = string.lower()\n",
    "    i = 1\n",
    "    for char in string:\n",
    "        if string[-i] != string[i]:\n",
    "            i += 1\n",
    "            return False \n",
    "    return True\n",
    "\n",
    "print(is_palindrome(\"Anna\"))"
   ]
  },
  {
   "cell_type": "code",
   "execution_count": null,
   "metadata": {},
   "outputs": [],
   "source": [
    "string = \"Anna\"\n",
    "string = string.lower()\n",
    "i = 1\n",
    "i_max = len(string) // 2\n",
    "\n",
    "for i in range(i_max):\n",
    "    if string[-i] == string[i]:\n",
    "        print(string[i])\n",
    "        i += 1\n",
    "    continue"
   ]
  },
  {
   "cell_type": "code",
   "execution_count": null,
   "metadata": {},
   "outputs": [],
   "source": [
    "string = \"1234567\"\n",
    "print(string[-1::-2])"
   ]
  },
  {
   "cell_type": "code",
   "execution_count": null,
   "metadata": {},
   "outputs": [],
   "source": [
    "def is_palindrome(string):\n",
    "    string = string.lower()\n",
    "    string = string.replace(\" \", \"\")\n",
    "    if string == string[::-1]:\n",
    "        return True\n",
    "    return False\n",
    "    \n",
    "is_palindrome(\"Anna \")\n"
   ]
  },
  {
   "cell_type": "code",
   "execution_count": null,
   "metadata": {},
   "outputs": [],
   "source": [
    "\n",
    "def has_palindrome(lista):\n",
    "    def is_palindrome(string):\n",
    "        string = string.lower()\n",
    "        string = string.replace(\" \", \"\")\n",
    "        if string == string[::-1]:\n",
    "            return True\n",
    "        return False\n",
    "    for string in lista:\n",
    "        if is_palindrome(string) == True:\n",
    "            return string, True\n",
    "        continue\n",
    "    return False\n",
    "\n",
    "has_palindrome([\"Anna\", \"Ciao\", \"Beppe\"])"
   ]
  },
  {
   "cell_type": "code",
   "execution_count": null,
   "metadata": {},
   "outputs": [],
   "source": [
    "dizionario = {}\n",
    "dizionario[\"name\"] = \"Beppe\"\n",
    "dizionario"
   ]
  },
  {
   "cell_type": "code",
   "execution_count": null,
   "metadata": {},
   "outputs": [],
   "source": [
    "dizionario[\"name\"] = \"Giovanni\"\n",
    "dizionario\n"
   ]
  },
  {
   "cell_type": "code",
   "execution_count": null,
   "metadata": {},
   "outputs": [],
   "source": [
    "# Funzione che riporti il numero di occorrenze di una lettera in una stringa\n",
    "def occorrenze (lettera, stringa):\n",
    "    occorrenze = 0\n",
    "    for char in stringa:\n",
    "        if char == lettera:\n",
    "            occorrenze += 1\n",
    "    return lettera, occorrenze\n",
    "\n",
    "occorrenze(\"b\", \"Ciao come stai?\")"
   ]
  },
  {
   "cell_type": "code",
   "execution_count": 20,
   "metadata": {},
   "outputs": [],
   "source": [
    "def count_letter_occurencies(stringa):\n",
    "    dizionario = {}\n",
    "    for lettera in stringa:\n",
    "        if lettera in dizionario:\n",
    "            dizionario[lettera] += 1\n",
    "        else:\n",
    "            dizionario[lettera] = 1\n",
    "    print(dizionario)"
   ]
  },
  {
   "cell_type": "code",
   "execution_count": null,
   "metadata": {},
   "outputs": [],
   "source": [
    "count_letter_occurencies(\"Ciao come stai?\")"
   ]
  },
  {
   "cell_type": "code",
   "execution_count": 9,
   "metadata": {},
   "outputs": [],
   "source": [
    "# funzione vendi che aggiorna il dizionario in base a cosa vende\n",
    "store = {\"jeans\": 10, \"maglietta\": 20, \"scarpe\": 30}\n",
    "def vendi(articolo):\n",
    "    if store[articolo] > 1:\n",
    "        store[articolo] -= 1\n",
    "    else:\n",
    "        del store[articolo]"
   ]
  },
  {
   "cell_type": "code",
   "execution_count": null,
   "metadata": {},
   "outputs": [],
   "source": [
    "vendi(\"jeans\")"
   ]
  },
  {
   "cell_type": "code",
   "execution_count": null,
   "metadata": {},
   "outputs": [],
   "source": [
    "print(store)"
   ]
  },
  {
   "cell_type": "code",
   "execution_count": 25,
   "metadata": {},
   "outputs": [
    {
     "name": "stdout",
     "output_type": "stream",
     "text": [
      "0 2 1 2\n",
      "1 2 3 6\n",
      "2 2 5 10\n",
      "3 2 7 14\n",
      "4 2 9 18\n",
      "5 4 1 4\n",
      "6 4 3 12\n",
      "7 4 5 20\n",
      "8 4 7 28\n",
      "9 4 9 36\n",
      "10 6 1 6\n",
      "11 6 3 18\n",
      "12 6 5 30\n",
      "13 6 7 42\n",
      "14 6 9 54\n",
      "15 8 1 8\n",
      "16 8 3 24\n",
      "17 8 5 40\n",
      "18 8 7 56\n",
      "19 8 9 72\n"
     ]
    }
   ],
   "source": [
    "#Nested loops\n",
    "counter = 0\n",
    "for i in [2,4,6,8]:\n",
    "    for j in [1,3,5,7,9]:\n",
    "        print(counter, i, j, i*j)\n",
    "        counter += 1"
   ]
  },
  {
   "cell_type": "code",
   "execution_count": 34,
   "metadata": {},
   "outputs": [
    {
     "name": "stdout",
     "output_type": "stream",
     "text": [
      "Anna 7 Rossi\n",
      "Beppe 8 Verdi\n",
      "Carlo 9 Bianchi\n",
      "Beppino 10 Neri\n"
     ]
    }
   ],
   "source": [
    "names = [\"Anna\", \"Beppe\", \"Carlo\", \"Beppino\", \"Carlino\"]\n",
    "grades = [7.6, 8.6, 9.4, 10] \n",
    "last_names = [\"Rossi\", \"Verdi\", \"Bianchi\", \"Neri\", \"Gialli\"]\n",
    "\n",
    "for n, g, l in zip(names, map(int, grades), last_names):\n",
    "    print(n, g, l)"
   ]
  },
  {
   "cell_type": "code",
   "execution_count": 33,
   "metadata": {},
   "outputs": [
    {
     "name": "stdout",
     "output_type": "stream",
     "text": [
      "7\n",
      "8\n",
      "9\n",
      "10\n"
     ]
    }
   ],
   "source": [
    "for p in map(int, grades):\n",
    "    print(p)"
   ]
  },
  {
   "cell_type": "code",
   "execution_count": 35,
   "metadata": {},
   "outputs": [
    {
     "name": "stdout",
     "output_type": "stream",
     "text": [
      "0 Anna\n",
      "1 Beppe\n",
      "2 Carlo\n",
      "3 Beppino\n",
      "4 Carlino\n"
     ]
    }
   ],
   "source": [
    "for i, n in enumerate(names):\n",
    "    print(i, n)"
   ]
  },
  {
   "cell_type": "code",
   "execution_count": 38,
   "metadata": {},
   "outputs": [
    {
     "name": "stdout",
     "output_type": "stream",
     "text": [
      "0 Carlino\n",
      "1 Beppino\n",
      "2 Carlo\n",
      "3 Beppe\n",
      "4 Anna\n"
     ]
    }
   ],
   "source": [
    "for i, n in enumerate(reversed(names)):\n",
    "    print(i, n)"
   ]
  },
  {
   "cell_type": "code",
   "execution_count": 1,
   "metadata": {},
   "outputs": [
    {
     "name": "stdout",
     "output_type": "stream",
     "text": [
      "2\n",
      "3\n",
      "5\n",
      "7\n",
      "11\n",
      "13\n",
      "17\n",
      "19\n",
      "23\n",
      "29\n",
      "31\n",
      "37\n",
      "41\n",
      "43\n",
      "47\n",
      "53\n",
      "59\n",
      "61\n",
      "67\n",
      "71\n",
      "73\n",
      "79\n",
      "83\n",
      "89\n",
      "97\n"
     ]
    }
   ],
   "source": [
    "# for che dato un numero restituisce i numeri primi precedenti\n",
    "def numeri_primi(n):\n",
    "    for i in range(2, n):\n",
    "        for j in range(2, i):\n",
    "            if i % j == 0:\n",
    "                break\n",
    "        else:\n",
    "            print(i)\n",
    "\n",
    "numeri_primi(100)"
   ]
  },
  {
   "cell_type": "code",
   "execution_count": 4,
   "metadata": {},
   "outputs": [
    {
     "name": "stdout",
     "output_type": "stream",
     "text": [
      "[1, 2, 3, 4, 5, 6, 7, 8, 9, 10]\n",
      "[1, 2, 3, 4, 5, 6, 7, 8, 9, 10, 11]\n"
     ]
    }
   ],
   "source": [
    "lista = [1, 2, 3, 4, 5, 6, 7, 8, 9, 10]\n",
    "print(lista)\n",
    "lista.append(11)\n",
    "print(lista)"
   ]
  },
  {
   "cell_type": "code",
   "execution_count": 7,
   "metadata": {},
   "outputs": [
    {
     "data": {
      "text/plain": [
       "{'1': {'nome': 'Beppe', 'cognome': 'Rossi', 'email': 'beppe@rossi.it'},\n",
       " '2': {'nome': 'Giovanni', 'cognome': 'Verdi', 'email': 'giovanni@verdi.it'}}"
      ]
     },
     "execution_count": 7,
     "metadata": {},
     "output_type": "execute_result"
    }
   ],
   "source": [
    "# Dizionario che contiene le info di vari clienti\n",
    "clienti = {}\n",
    "clienti[\"1\"] = {\"nome\": \"Beppe\", \"cognome\": \"Rossi\", \"email\": \"beppe@rossi.it\"}\n",
    "clienti[\"2\"] = {\"nome\": \"Giovanni\", \"cognome\": \"Verdi\", \"email\": \"giovanni@verdi.it\"}\n",
    "clienti\n"
   ]
  }
 ],
 "metadata": {
  "kernelspec": {
   "display_name": ".venv",
   "language": "python",
   "name": "python3"
  },
  "language_info": {
   "codemirror_mode": {
    "name": "ipython",
    "version": 3
   },
   "file_extension": ".py",
   "mimetype": "text/x-python",
   "name": "python",
   "nbconvert_exporter": "python",
   "pygments_lexer": "ipython3",
   "version": "3.12.8"
  }
 },
 "nbformat": 4,
 "nbformat_minor": 2
}
