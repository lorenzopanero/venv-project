{
 "cells": [
  {
   "cell_type": "code",
   "execution_count": 9,
   "metadata": {},
   "outputs": [
    {
     "name": "stdout",
     "output_type": "stream",
     "text": [
      "Buddy has 4 legs\n"
     ]
    }
   ],
   "source": [
    "class Animal:\n",
    "    def __init__(self, name, legs):\n",
    "        self.name = name\n",
    "        self.legs = legs\n",
    "    \n",
    "    def count_legs(self):\n",
    "        print(f\"{self.name} has {self.legs} legs\")\n",
    "\n",
    "buddy = Animal(\"Buddy\", 4)\n",
    "\n",
    "buddy.count_legs()"
   ]
  },
  {
   "cell_type": "code",
   "execution_count": 10,
   "metadata": {},
   "outputs": [
    {
     "name": "stdout",
     "output_type": "stream",
     "text": [
      "Fluffy has 4 legs\n"
     ]
    }
   ],
   "source": [
    "class Animal:\n",
    "    def __init__(self, name, legs):\n",
    "        self.name = name\n",
    "        self._legs = legs\n",
    "    \n",
    "    def get_legs(self):\n",
    "        print(f\"{self.name} has {self._legs} legs\")\n",
    "\n",
    "fluffy = Animal(\"Fluffy\", 4)\n",
    "fluffy.get_legs()"
   ]
  },
  {
   "cell_type": "code",
   "execution_count": 13,
   "metadata": {},
   "outputs": [
    {
     "name": "stdout",
     "output_type": "stream",
     "text": [
      "Doggo: Woof woof\n",
      "Doggo has 4 legs\n",
      "None, has None\n"
     ]
    }
   ],
   "source": [
    "class Animal:\n",
    "    def __init__(self, name, legs):\n",
    "        self.name = name\n",
    "        self.legs = legs\n",
    "    \n",
    "    def get_legs(self):\n",
    "        print(f\"{self.name} has {self.legs} legs\")\n",
    "\n",
    "class Dog(Animal):\n",
    "    def __init__(self, _name, legs):\n",
    "        super().__init__(_name, legs)\n",
    "    \n",
    "    def get_bark(self):\n",
    "        print(f\"{self.name}: Woof woof\")\n",
    "    \n",
    "doggo = Dog(\"Doggo\", 4)\n",
    "\n",
    "print(f\"{doggo.get_bark()}, has {doggo.get_legs()}\")"
   ]
  },
  {
   "cell_type": "code",
   "execution_count": 15,
   "metadata": {},
   "outputs": [
    {
     "name": "stdout",
     "output_type": "stream",
     "text": [
      "9\n"
     ]
    }
   ],
   "source": [
    "Myvar = int(9)\n",
    "print(Myvar)"
   ]
  },
  {
   "cell_type": "code",
   "execution_count": 18,
   "metadata": {},
   "outputs": [
    {
     "ename": "SyntaxError",
     "evalue": "invalid syntax (2285352921.py, line 1)",
     "output_type": "error",
     "traceback": [
      "\u001b[0;36m  Cell \u001b[0;32mIn[18], line 1\u001b[0;36m\u001b[0m\n\u001b[0;31m    if 'bar' in {'foo': 1, 'bar': 2, 'baz': 3}: print(1) print(2)\u001b[0m\n\u001b[0m                                                         ^\u001b[0m\n\u001b[0;31mSyntaxError\u001b[0m\u001b[0;31m:\u001b[0m invalid syntax\n"
     ]
    }
   ],
   "source": [
    "if 'bar' in {'foo': 1, 'bar': 2, 'baz': 3}: print(1) print(2) \n",
    "if 'a' in 'qux': print(3) print(4)"
   ]
  }
 ],
 "metadata": {
  "kernelspec": {
   "display_name": ".venv",
   "language": "python",
   "name": "python3"
  },
  "language_info": {
   "codemirror_mode": {
    "name": "ipython",
    "version": 3
   },
   "file_extension": ".py",
   "mimetype": "text/x-python",
   "name": "python",
   "nbconvert_exporter": "python",
   "pygments_lexer": "ipython3",
   "version": "3.12.3"
  }
 },
 "nbformat": 4,
 "nbformat_minor": 2
}
