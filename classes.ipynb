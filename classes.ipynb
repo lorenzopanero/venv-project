{
 "cells": [
  {
   "cell_type": "code",
   "execution_count": 5,
   "metadata": {},
   "outputs": [],
   "source": [
    "class Cake:\n",
    "    def __init__(self, main_ingredients, allergens):\n",
    "        self.main_ingredients = main_ingredients\n",
    "        self.allergens = allergens       "
   ]
  },
  {
   "cell_type": "code",
   "execution_count": 6,
   "metadata": {},
   "outputs": [],
   "source": [
    "fondant = Cake([\"flour\", \"chocolate\", \"pear\"], \n",
    "               \"gluten\")"
   ]
  },
  {
   "cell_type": "code",
   "execution_count": 7,
   "metadata": {},
   "outputs": [],
   "source": [
    "def slice_cake(self, n=4):\n",
    "    args = self.__dict__\n",
    "    print(args)\n",
    "    slices = []\n",
    "    for i in range(4):\n",
    "        slices.append(Cake(**args))"
   ]
  },
  {
   "cell_type": "code",
   "execution_count": 8,
   "metadata": {},
   "outputs": [
    {
     "name": "stdout",
     "output_type": "stream",
     "text": [
      "{'main_ingredients': ['flour', 'chocolate', 'pear'], 'allergens': 'gluten'}\n"
     ]
    }
   ],
   "source": [
    "slice_cake(fondant, 4)"
   ]
  }
 ],
 "metadata": {
  "kernelspec": {
   "display_name": ".venv",
   "language": "python",
   "name": "python3"
  },
  "language_info": {
   "codemirror_mode": {
    "name": "ipython",
    "version": 3
   },
   "file_extension": ".py",
   "mimetype": "text/x-python",
   "name": "python",
   "nbconvert_exporter": "python",
   "pygments_lexer": "ipython3",
   "version": "3.12.3"
  }
 },
 "nbformat": 4,
 "nbformat_minor": 2
}
